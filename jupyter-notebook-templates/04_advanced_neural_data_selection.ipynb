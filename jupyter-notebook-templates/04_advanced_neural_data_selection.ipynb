{
 "cells": [
  {
   "cell_type": "markdown",
   "metadata": {},
   "source": [
    "# Advanced neural data selection\n",
    "\n",
    "Often times we want to subselect neural data that match certain meta data parameters. For example, to compare neurophysiology on vs. off deep brain stimulation, we would need to filter data by therapy status. We could also filter by stimulation frequency, stimulation amplitude, sensing sampling rate, etc. \n",
    "\n",
    "This template is an example of how to use Rune's API to find windows of time in which meta data parameters were met. We specify filtering parameters and target values, and we retrieve a list of time stamps for data epochs that match our critera. Note that these time stamps represent windows in which meta data parameters were constant, but do not necessarily represent times when data were streamed. For example, if sampling rate was constant at 250 hz for 2 weeks and the subject streamed data for 2 days within that period, these functions will return the full two week window. To find epochs in which all of our settings were met **and** data were streamed, we can check for overlap between the epochs returned here and the epochs found using the `availability` expression in the previous notebook."
   ]
  },
  {
   "cell_type": "code",
   "execution_count": 1,
   "metadata": {
    "ExecuteTime": {
     "end_time": "2020-05-07T23:39:51.248720Z",
     "start_time": "2020-05-07T23:39:50.512541Z"
    }
   },
   "outputs": [],
   "source": [
    "import io\n",
    "import datetime\n",
    "import pandas as pd\n",
    "import numpy as np\n",
    "import matplotlib.pyplot as plt\n",
    "from runeq import Config, stream\n",
    "from collections import defaultdict"
   ]
  },
  {
   "cell_type": "markdown",
   "metadata": {},
   "source": [
    "## Functions for API calls\n",
    "\n",
    "These wrapper functions use Rune's API and Python package `runeq` to pull meta data about stimulation, sensing, and adaptive parameters. The outputs are state values for each parameter, in addition to time stamps for each state value. \n",
    "\n",
    "Additionally, the API can be used to pull raw neural time series data, spectrograms, and power spectra. A wrapper function for pulling neural time series is included for demonstration of how to retrieve data after we have identified time stamps for data of interest (this function is from the previous notebook `01_download_neural_data`)."
   ]
  },
  {
   "cell_type": "code",
   "execution_count": 2,
   "metadata": {
    "ExecuteTime": {
     "end_time": "2020-05-07T23:39:52.449955Z",
     "start_time": "2020-05-07T23:39:52.439093Z"
    }
   },
   "outputs": [],
   "source": [
    "def make_full_df(accessor):\n",
    "    '''Loop through pages of API calls and append to a single dataframe'''\n",
    "    \n",
    "    df = pd.DataFrame()\n",
    "    for page in accessor.iter_csv_text():\n",
    "        page_df = pd.read_csv(io.StringIO(page))\n",
    "        df = df.append(page_df, ignore_index=True)\n",
    "\n",
    "    return df\n",
    "\n",
    "def get_stimulation_meta_data(client, params):\n",
    "    '''Makes API calls for stimulation meta data, outputs dataframe'''\n",
    "    \n",
    "    stimulation_fields = {\n",
    "        'event': 'stimulation_state',\n",
    "        'fields': 'therapy_status,'\n",
    "                  'pulse_width_lower_limit_seconds,'\n",
    "                  'pulse_width_upper_limit_seconds,'\n",
    "                  'ramp_repeat,'\n",
    "                  'ramp_time,rate_hz,'\n",
    "                  'rate_lower_limit_hz,'\n",
    "                  'rate_upper_limit_hz,'\n",
    "                  'therapy_group_id,'\n",
    "                  'therapy_config_valid,'\n",
    "                  'program.0.amplitude_amps,'\n",
    "                  'program.0.pulse_width_seconds,'\n",
    "                  'program.0.valid,'\n",
    "                  'program.0.subvalid,'\n",
    "                  'program.1.amplitude_amps,'\n",
    "                  'program.1.pulse_width_seconds,'\n",
    "                  'program.1.valid,'\n",
    "                  'program.1.subvalid,'\n",
    "                  'program.2.amplitude_amps,'\n",
    "                  'program.2.pulse_width_seconds,'\n",
    "                  'program.2.valid,'\n",
    "                  'program.2.subvalid,'\n",
    "                  'program.3.amplitude_amps,'\n",
    "                  'program.3.pulse_width_seconds,'\n",
    "                  'program.3.valid,'\n",
    "                  'program.3.subvalid,'\n",
    "                  'program.0.electrode.0,'\n",
    "                  'program.0.electrode.1,'\n",
    "                  'program.0.electrode.2,'\n",
    "                  'program.0.electrode.4,'\n",
    "                  'program.0.electrode.8,'\n",
    "                  'program.0.electrode.16,'\n",
    "                  'program.0.electrode.32,'\n",
    "                  'program.0.electrode.64,'\n",
    "                  'program.0.electrode.128,'\n",
    "                  'program.1.electrode.0,'\n",
    "                  'program.1.electrode.1,'\n",
    "                  'program.1.electrode.2,'\n",
    "                  'program.1.electrode.4,'\n",
    "                  'program.1.electrode.8,'\n",
    "                  'program.1.electrode.16,'\n",
    "                  'program.1.electrode.32,'\n",
    "                  'program.1.electrode.64,'\n",
    "                  'program.1.electrode.128,'\n",
    "                  'program.2.electrode.0,'\n",
    "                  'program.2.electrode.1,'\n",
    "                  'program.2.electrode.2,'\n",
    "                  'program.2.electrode.4,'\n",
    "                  'program.2.electrode.8,'\n",
    "                  'program.2.electrode.16,'\n",
    "                  'program.2.electrode.32,'\n",
    "                  'program.2.electrode.64,'\n",
    "                  'program.2.electrode.128,'\n",
    "                  'program.3.electrode.0,'\n",
    "                  'program.3.electrode.1,'\n",
    "                  'program.3.electrode.2,'\n",
    "                  'program.3.electrode.4,'\n",
    "                  'program.3.electrode.8,'\n",
    "                  'program.3.electrode.16,'\n",
    "                  'program.3.electrode.32,'\n",
    "                  'program.3.electrode.64,'\n",
    "                  'program.3.electrode.128'\n",
    "    }\n",
    "    \n",
    "    accessor = client.State(**stimulation_fields, **params)\n",
    "    return make_full_df(accessor)\n",
    "\n",
    "\n",
    "def get_sensing_meta_data(client, params):\n",
    "    '''Makes API calls for sensing meta data, outputs dataframe'''\n",
    "    \n",
    "    sensing_fields = {\n",
    "        'event': 'sampling_frequency',\n",
    "        'fields': 'frequency_hz'\n",
    "    }\n",
    "    \n",
    "    accessor = client.State(**sensing_fields, **params)\n",
    "    return make_full_df(accessor)\n",
    "\n",
    "\n",
    "def get_adaptive_meta_data(client, params):\n",
    "    '''Makes API calls for adaptive meta data, outputs dataframe'''\n",
    "    \n",
    "    adaptive_fields = {\n",
    "        'event': 'stimulation_state.adaptive',\n",
    "        'fields': 'adaptive_state,'\n",
    "                  'in_startup_holdoff,'\n",
    "                  'sensing_status,'\n",
    "                  'stim_flags,'\n",
    "                  'stim_rate_hz,'\n",
    "                  'ld0.detection_status,'\n",
    "                  'ld0.fixed_decimal_point,'\n",
    "                  'ld0.threshold.high,'\n",
    "                  'ld0.threshold.low,'\n",
    "                  'ld0.output,'\n",
    "                  'ld0.feature.0,'\n",
    "                  'ld0.feature.1,'\n",
    "                  'ld0.feature.2,'\n",
    "                  'ld0.feature.3,'\n",
    "                  'ld1.detection_status,'\n",
    "                  'ld1.fixed_decimal_point,'\n",
    "                  'ld1.threshold.high,'\n",
    "                  'ld1.threshold.low,'\n",
    "                  'ld1.output,'\n",
    "                  'ld1.feature.0,'\n",
    "                  'ld1.feature.1,'\n",
    "                  'ld1.feature.2,'\n",
    "                  'ld1.feature.3,'\n",
    "                  'program.0.amplitude_amp,'\n",
    "                  'program.1.amplitude_amp,'\n",
    "                  'program.2.amplitude_amp,'\n",
    "                  'program.3.amplitude_amp'\n",
    "    }\n",
    "    \n",
    "    accessor = client.State(**adaptive_fields, **params)\n",
    "    return make_full_df(accessor)\n",
    "\n",
    "\n",
    "def get_neural_time_series(client, params, save_filepath):\n",
    "    '''Makes API calls for neural time series, saves to CSV and outputs dataframe'''\n",
    "\n",
    "    accessor = client.LFP(**params)\n",
    "    df = make_full_df(accessor)\n",
    "    df.to_csv(save_filepath)\n",
    "    return df"
   ]
  },
  {
   "cell_type": "markdown",
   "metadata": {},
   "source": [
    "## Functions for finding data epochs\n",
    "\n",
    "Rune's API returns timestamps for state values. These timestamps reflect times when information about these state values were available and/or changed. The following functions take those timestamps and generate time windows, or epochs, where data match individual or multiple criteria (these functions are from the previous notebook). However, they do not necessarily reflect when data were available."
   ]
  },
  {
   "cell_type": "code",
   "execution_count": 3,
   "metadata": {
    "ExecuteTime": {
     "end_time": "2020-05-07T23:39:53.747773Z",
     "start_time": "2020-05-07T23:39:53.735415Z"
    }
   },
   "outputs": [],
   "source": [
    "def find_epochs(timestamp_series, state_series, state_match):\n",
    "    '''\n",
    "    Returns start/stop time of data epochs based off state changes\n",
    "    For example, we want to find all data epochs in which sampling rate == 250 \n",
    "    Each epoch starts when the first sampling rate event == 250 \n",
    "    Each epoch ends when sampling rate changes to different value\n",
    "    \n",
    "    Input: \n",
    "        time_series - unix time stamps for each state <pd series>\n",
    "        state_series - values for a particular state <pd series>\n",
    "        state_match - desired state value <int, float, or string>\n",
    "    Output: \n",
    "        epochs - list of unix time stamps for epoch start/stop\n",
    "    '''\n",
    "   \n",
    "    # calculate changes in adjacent values to identify state changes\n",
    "    match = pd.DataFrame([1 if x == state_match else 0 for x in state_series])\n",
    "    match['change'] = match.diff()\n",
    "    \n",
    "    # when 'change' is 0, then a current value is identical to the previous value\n",
    "    # an epoch begins when the change value is 1\n",
    "    # an epoch ends when the change value is -1\n",
    "    start_idx = [((np.isnan(x) and y == 1) or x == 1) for x,y in zip(match['change'],match[0])]\n",
    "    stop_idx = [x == -1 for x in match['change']]\n",
    "    \n",
    "    # obtain datetime stamps for the start and stop of all epochs\n",
    "    window_start = timestamp_series[start_idx]\n",
    "    window_stop = timestamp_series[stop_idx]\n",
    "\n",
    "    # if the last epoch has no stop, add the last datetime stamp as the stop\n",
    "    if len(window_start) > len(window_stop):\n",
    "        window_stop.loc[len(window_stop)] = timestamp_series.iloc[-1]\n",
    "        \n",
    "    # make array of start/stop times\n",
    "    epochs = np.array([window_start[:], window_stop[:]]).transpose()\n",
    "\n",
    "    return epochs\n",
    "\n",
    "\n",
    "def find_overlapping_epochs(*conditions):\n",
    "    '''\n",
    "    Return epochs where all conditions are true.\n",
    "\n",
    "    Input:\n",
    "        One or more conditions. Each condition is a list of epochs.\n",
    "        Each epoch is a list/tuple with 2 elements: the start and\n",
    "        end time of a time interval where the condition was true.\n",
    "\n",
    "    Output:\n",
    "        A list of tuples, where each tuple represents the start and\n",
    "        end time of an epoch where all the conditions are true\n",
    "    '''\n",
    "\n",
    "    # compile a set of all the timestamps\n",
    "    times = set()\n",
    "\n",
    "    # create a dictionary that summarizes the overall change at\n",
    "    # each timestamp: the net number of conditions that become true\n",
    "    change_at_time = defaultdict(int)\n",
    "\n",
    "    for condition in conditions:\n",
    "        for epoch in condition:\n",
    "            start, end = epoch\n",
    "            times.add(start)\n",
    "            times.add(end)\n",
    "            # When a condition starts, the change at time t is positive\n",
    "            change_at_time[start] += 1\n",
    "            # When a condition ends, the change at time t is negative\n",
    "            change_at_time[end] -= 1\n",
    "\n",
    "    results = []\n",
    "\n",
    "    # now go through the timestamps *in order*, and keep track of\n",
    "    # the cumulative sum of change_at_time:\n",
    "    num_on = 0\n",
    "\n",
    "    num_conditions = len(conditions)\n",
    "\n",
    "    # when we find a timestamp where all of the conditions are true\n",
    "    # (i.e. cumulative sum = num_conditions), keep track of the\n",
    "    # start time:\n",
    "    current_epoch_start = None\n",
    "\n",
    "    for time in sorted(times):\n",
    "        num_on += change_at_time[time]\n",
    "        if num_on == num_conditions and current_epoch_start == None:\n",
    "            current_epoch_start = time\n",
    "\n",
    "        if num_on != num_conditions and current_epoch_start != None:\n",
    "            results.append((current_epoch_start, time))\n",
    "            current_epoch_start = None\n",
    "\n",
    "    if not results:\n",
    "        print('No epochs matching all criteria')\n",
    "    \n",
    "    return results\n",
    "\n",
    "\n",
    "def filter_by_epoch_duration(epochs, min_duration):\n",
    "    '''\n",
    "    Given a list of epoch start/end times, returns epoch start/end times\n",
    "    that are at least minimum duration (sec)\n",
    "    '''\n",
    "    epoch_durations = [epoch[1]-epoch[0] for epoch in epochs]\n",
    "    keep_idx = [epoch_duration>=min_duration for epoch_duration in epoch_durations]\n",
    "    \n",
    "    return np.array(epochs_overlap_all)[np.array(keep_idx)].tolist()"
   ]
  },
  {
   "cell_type": "markdown",
   "metadata": {},
   "source": [
    "## Function for plotting data \n",
    "\n",
    "This function is for visualizing data availability that meet filtering criteria.\n",
    "\n",
    "Note: In this notebook, plots are static. Use magic function `%matplotlib notebook` for interactive zooming and panning."
   ]
  },
  {
   "cell_type": "code",
   "execution_count": 4,
   "metadata": {
    "ExecuteTime": {
     "end_time": "2020-05-07T23:39:54.989905Z",
     "start_time": "2020-05-07T23:39:54.984661Z"
    }
   },
   "outputs": [],
   "source": [
    "def plot_epochs(condition_names,*conditions):\n",
    "    '''\n",
    "    Plots one or more conditions and the times in which those conditions were met\n",
    "    \n",
    "    Input:\n",
    "        List of condition names and list of start/end times for epochs matching each condition\n",
    "    '''\n",
    "    \n",
    "    num_conditions = len(conditions)\n",
    "    \n",
    "    fig,ax = plt.subplots(figsize=(12,5))\n",
    "\n",
    "    for idx,condition in enumerate(conditions):\n",
    "        for epoch in condition:\n",
    "            ax.plot([datetime.datetime.fromtimestamp(epoch[0]), datetime.datetime.fromtimestamp(epoch[1])], [idx, idx], linewidth=25)\n",
    "\n",
    "    plt.xticks(rotation=90)\n",
    "    plt.yticks(np.arange(num_conditions), condition_names)\n",
    "    plt.tight_layout()\n",
    "    plt.xlabel('Time')\n",
    "    plt.ylabel('Filter Criteria')\n",
    "    plt.title('Data Availability')"
   ]
  },
  {
   "cell_type": "markdown",
   "metadata": {},
   "source": [
    "## Data selection in a single subject\n",
    "\n",
    "First we will use the API to pull all meta data. We will specify which parameters we want to filter by, and then we will identify epochs in which all filtering criteria were met. We can customize which meta data parameters and how many we use.\n",
    "\n",
    "## 1. Initialize API credentials\n",
    "\n",
    "First set up your credentials for accessing patient data through the API. These credentials are patient-specific and can be found on the Rune web app https://app.runelabs.io/patients. Set up a .yaml file with your key id and key secret. In the code below, replace the file path for your .yaml file. Replace the `device_id` string with the relevant string."
   ]
  },
  {
   "cell_type": "code",
   "execution_count": 5,
   "metadata": {
    "ExecuteTime": {
     "end_time": "2020-05-07T23:39:56.503507Z",
     "start_time": "2020-05-07T23:39:56.498354Z"
    }
   },
   "outputs": [],
   "source": [
    "# set up client\n",
    "\n",
    "cfg = Config('/Users/witney/Documents/api_config/rcs07_config.yaml')\n",
    "client = stream.V1Client(cfg)"
   ]
  },
  {
   "cell_type": "code",
   "execution_count": 6,
   "metadata": {
    "ExecuteTime": {
     "end_time": "2020-05-07T23:39:56.834148Z",
     "start_time": "2020-05-07T23:39:56.830941Z"
    }
   },
   "outputs": [],
   "source": [
    "# initialize parameters for API calls\n",
    "\n",
    "params = {\n",
    "    'device_id': 'NPC700403H',\n",
    "    'start_time': datetime.datetime(2019, 9, 1).timestamp(),\n",
    "    'end_time': datetime.datetime(2020, 4, 30).timestamp(),\n",
    "    'timestamp': 'unix',\n",
    "}"
   ]
  },
  {
   "cell_type": "markdown",
   "metadata": {},
   "source": [
    "Here we specified a particular date range, but if you want to pull **all** meta data, you can set `start_time` to 0 and `end_time` to today:\n",
    "```\n",
    "start_time = 0\n",
    "end_time = datetime.datetime.now().timestamp()\n",
    "```"
   ]
  },
  {
   "cell_type": "markdown",
   "metadata": {},
   "source": [
    "## 2. Pull meta data for stimulation and sensing parameters"
   ]
  },
  {
   "cell_type": "code",
   "execution_count": 7,
   "metadata": {
    "ExecuteTime": {
     "end_time": "2020-05-07T23:40:00.859524Z",
     "start_time": "2020-05-07T23:39:58.052754Z"
    }
   },
   "outputs": [],
   "source": [
    "# get stimulation, sensing, and adaptive meta data\n",
    "\n",
    "stimulation_meta_data = get_stimulation_meta_data(client, params)\n",
    "sensing_meta_data = get_sensing_meta_data(client, params)\n",
    "adaptive_meta_data = get_adaptive_meta_data(client, params)"
   ]
  },
  {
   "cell_type": "code",
   "execution_count": 8,
   "metadata": {
    "ExecuteTime": {
     "end_time": "2020-05-07T23:40:01.046590Z",
     "start_time": "2020-05-07T23:40:01.025098Z"
    }
   },
   "outputs": [
    {
     "data": {
      "text/html": [
       "<div>\n",
       "<style scoped>\n",
       "    .dataframe tbody tr th:only-of-type {\n",
       "        vertical-align: middle;\n",
       "    }\n",
       "\n",
       "    .dataframe tbody tr th {\n",
       "        vertical-align: top;\n",
       "    }\n",
       "\n",
       "    .dataframe thead th {\n",
       "        text-align: right;\n",
       "    }\n",
       "</style>\n",
       "<table border=\"1\" class=\"dataframe\">\n",
       "  <thead>\n",
       "    <tr style=\"text-align: right;\">\n",
       "      <th></th>\n",
       "      <th>time</th>\n",
       "      <th>therapy_status</th>\n",
       "      <th>pulse_width_lower_limit_seconds</th>\n",
       "      <th>pulse_width_upper_limit_seconds</th>\n",
       "      <th>ramp_repeat</th>\n",
       "      <th>ramp_time</th>\n",
       "      <th>rate_hz</th>\n",
       "      <th>rate_lower_limit_hz</th>\n",
       "      <th>rate_upper_limit_hz</th>\n",
       "      <th>therapy_group_id</th>\n",
       "      <th>...</th>\n",
       "      <th>program.2.electrode.128</th>\n",
       "      <th>program.3.electrode.0</th>\n",
       "      <th>program.3.electrode.1</th>\n",
       "      <th>program.3.electrode.2</th>\n",
       "      <th>program.3.electrode.4</th>\n",
       "      <th>program.3.electrode.8</th>\n",
       "      <th>program.3.electrode.16</th>\n",
       "      <th>program.3.electrode.32</th>\n",
       "      <th>program.3.electrode.64</th>\n",
       "      <th>program.3.electrode.128</th>\n",
       "    </tr>\n",
       "  </thead>\n",
       "  <tbody>\n",
       "    <tr>\n",
       "      <th>0</th>\n",
       "      <td>1.568138e+09</td>\n",
       "      <td>0</td>\n",
       "      <td>NaN</td>\n",
       "      <td>NaN</td>\n",
       "      <td>NaN</td>\n",
       "      <td>NaN</td>\n",
       "      <td>NaN</td>\n",
       "      <td>NaN</td>\n",
       "      <td>NaN</td>\n",
       "      <td>NaN</td>\n",
       "      <td>...</td>\n",
       "      <td>NaN</td>\n",
       "      <td>NaN</td>\n",
       "      <td>NaN</td>\n",
       "      <td>NaN</td>\n",
       "      <td>NaN</td>\n",
       "      <td>NaN</td>\n",
       "      <td>NaN</td>\n",
       "      <td>NaN</td>\n",
       "      <td>NaN</td>\n",
       "      <td>NaN</td>\n",
       "    </tr>\n",
       "    <tr>\n",
       "      <th>1</th>\n",
       "      <td>1.568233e+09</td>\n",
       "      <td>0</td>\n",
       "      <td>NaN</td>\n",
       "      <td>NaN</td>\n",
       "      <td>NaN</td>\n",
       "      <td>NaN</td>\n",
       "      <td>NaN</td>\n",
       "      <td>NaN</td>\n",
       "      <td>NaN</td>\n",
       "      <td>NaN</td>\n",
       "      <td>...</td>\n",
       "      <td>NaN</td>\n",
       "      <td>NaN</td>\n",
       "      <td>NaN</td>\n",
       "      <td>NaN</td>\n",
       "      <td>NaN</td>\n",
       "      <td>NaN</td>\n",
       "      <td>NaN</td>\n",
       "      <td>NaN</td>\n",
       "      <td>NaN</td>\n",
       "      <td>NaN</td>\n",
       "    </tr>\n",
       "    <tr>\n",
       "      <th>2</th>\n",
       "      <td>1.568233e+09</td>\n",
       "      <td>0</td>\n",
       "      <td>NaN</td>\n",
       "      <td>NaN</td>\n",
       "      <td>NaN</td>\n",
       "      <td>NaN</td>\n",
       "      <td>NaN</td>\n",
       "      <td>NaN</td>\n",
       "      <td>NaN</td>\n",
       "      <td>NaN</td>\n",
       "      <td>...</td>\n",
       "      <td>NaN</td>\n",
       "      <td>NaN</td>\n",
       "      <td>NaN</td>\n",
       "      <td>NaN</td>\n",
       "      <td>NaN</td>\n",
       "      <td>NaN</td>\n",
       "      <td>NaN</td>\n",
       "      <td>NaN</td>\n",
       "      <td>NaN</td>\n",
       "      <td>NaN</td>\n",
       "    </tr>\n",
       "    <tr>\n",
       "      <th>3</th>\n",
       "      <td>1.568233e+09</td>\n",
       "      <td>0</td>\n",
       "      <td>NaN</td>\n",
       "      <td>NaN</td>\n",
       "      <td>NaN</td>\n",
       "      <td>NaN</td>\n",
       "      <td>NaN</td>\n",
       "      <td>NaN</td>\n",
       "      <td>NaN</td>\n",
       "      <td>NaN</td>\n",
       "      <td>...</td>\n",
       "      <td>NaN</td>\n",
       "      <td>NaN</td>\n",
       "      <td>NaN</td>\n",
       "      <td>NaN</td>\n",
       "      <td>NaN</td>\n",
       "      <td>NaN</td>\n",
       "      <td>NaN</td>\n",
       "      <td>NaN</td>\n",
       "      <td>NaN</td>\n",
       "      <td>NaN</td>\n",
       "    </tr>\n",
       "    <tr>\n",
       "      <th>4</th>\n",
       "      <td>1.568823e+09</td>\n",
       "      <td>0</td>\n",
       "      <td>NaN</td>\n",
       "      <td>NaN</td>\n",
       "      <td>NaN</td>\n",
       "      <td>NaN</td>\n",
       "      <td>NaN</td>\n",
       "      <td>NaN</td>\n",
       "      <td>NaN</td>\n",
       "      <td>NaN</td>\n",
       "      <td>...</td>\n",
       "      <td>NaN</td>\n",
       "      <td>NaN</td>\n",
       "      <td>NaN</td>\n",
       "      <td>NaN</td>\n",
       "      <td>NaN</td>\n",
       "      <td>NaN</td>\n",
       "      <td>NaN</td>\n",
       "      <td>NaN</td>\n",
       "      <td>NaN</td>\n",
       "      <td>NaN</td>\n",
       "    </tr>\n",
       "  </tbody>\n",
       "</table>\n",
       "<p>5 rows × 63 columns</p>\n",
       "</div>"
      ],
      "text/plain": [
       "           time  therapy_status  pulse_width_lower_limit_seconds  \\\n",
       "0  1.568138e+09               0                              NaN   \n",
       "1  1.568233e+09               0                              NaN   \n",
       "2  1.568233e+09               0                              NaN   \n",
       "3  1.568233e+09               0                              NaN   \n",
       "4  1.568823e+09               0                              NaN   \n",
       "\n",
       "   pulse_width_upper_limit_seconds  ramp_repeat  ramp_time  rate_hz  \\\n",
       "0                              NaN          NaN        NaN      NaN   \n",
       "1                              NaN          NaN        NaN      NaN   \n",
       "2                              NaN          NaN        NaN      NaN   \n",
       "3                              NaN          NaN        NaN      NaN   \n",
       "4                              NaN          NaN        NaN      NaN   \n",
       "\n",
       "   rate_lower_limit_hz  rate_upper_limit_hz  therapy_group_id  ...  \\\n",
       "0                  NaN                  NaN               NaN  ...   \n",
       "1                  NaN                  NaN               NaN  ...   \n",
       "2                  NaN                  NaN               NaN  ...   \n",
       "3                  NaN                  NaN               NaN  ...   \n",
       "4                  NaN                  NaN               NaN  ...   \n",
       "\n",
       "   program.2.electrode.128  program.3.electrode.0  program.3.electrode.1  \\\n",
       "0                      NaN                    NaN                    NaN   \n",
       "1                      NaN                    NaN                    NaN   \n",
       "2                      NaN                    NaN                    NaN   \n",
       "3                      NaN                    NaN                    NaN   \n",
       "4                      NaN                    NaN                    NaN   \n",
       "\n",
       "   program.3.electrode.2  program.3.electrode.4  program.3.electrode.8  \\\n",
       "0                    NaN                    NaN                    NaN   \n",
       "1                    NaN                    NaN                    NaN   \n",
       "2                    NaN                    NaN                    NaN   \n",
       "3                    NaN                    NaN                    NaN   \n",
       "4                    NaN                    NaN                    NaN   \n",
       "\n",
       "   program.3.electrode.16  program.3.electrode.32  program.3.electrode.64  \\\n",
       "0                     NaN                     NaN                     NaN   \n",
       "1                     NaN                     NaN                     NaN   \n",
       "2                     NaN                     NaN                     NaN   \n",
       "3                     NaN                     NaN                     NaN   \n",
       "4                     NaN                     NaN                     NaN   \n",
       "\n",
       "   program.3.electrode.128  \n",
       "0                      NaN  \n",
       "1                      NaN  \n",
       "2                      NaN  \n",
       "3                      NaN  \n",
       "4                      NaN  \n",
       "\n",
       "[5 rows x 63 columns]"
      ]
     },
     "execution_count": 8,
     "metadata": {},
     "output_type": "execute_result"
    }
   ],
   "source": [
    "stimulation_meta_data.head(5)"
   ]
  },
  {
   "cell_type": "code",
   "execution_count": 9,
   "metadata": {
    "ExecuteTime": {
     "end_time": "2020-05-07T23:40:01.212391Z",
     "start_time": "2020-05-07T23:40:01.205547Z"
    }
   },
   "outputs": [
    {
     "data": {
      "text/html": [
       "<div>\n",
       "<style scoped>\n",
       "    .dataframe tbody tr th:only-of-type {\n",
       "        vertical-align: middle;\n",
       "    }\n",
       "\n",
       "    .dataframe tbody tr th {\n",
       "        vertical-align: top;\n",
       "    }\n",
       "\n",
       "    .dataframe thead th {\n",
       "        text-align: right;\n",
       "    }\n",
       "</style>\n",
       "<table border=\"1\" class=\"dataframe\">\n",
       "  <thead>\n",
       "    <tr style=\"text-align: right;\">\n",
       "      <th></th>\n",
       "      <th>time</th>\n",
       "      <th>frequency_hz</th>\n",
       "    </tr>\n",
       "  </thead>\n",
       "  <tbody>\n",
       "    <tr>\n",
       "      <th>0</th>\n",
       "      <td>1.568233e+09</td>\n",
       "      <td>500</td>\n",
       "    </tr>\n",
       "    <tr>\n",
       "      <th>1</th>\n",
       "      <td>1.568233e+09</td>\n",
       "      <td>1000</td>\n",
       "    </tr>\n",
       "    <tr>\n",
       "      <th>2</th>\n",
       "      <td>1.568823e+09</td>\n",
       "      <td>500</td>\n",
       "    </tr>\n",
       "    <tr>\n",
       "      <th>3</th>\n",
       "      <td>1.568823e+09</td>\n",
       "      <td>1000</td>\n",
       "    </tr>\n",
       "    <tr>\n",
       "      <th>4</th>\n",
       "      <td>1.568825e+09</td>\n",
       "      <td>500</td>\n",
       "    </tr>\n",
       "  </tbody>\n",
       "</table>\n",
       "</div>"
      ],
      "text/plain": [
       "           time  frequency_hz\n",
       "0  1.568233e+09           500\n",
       "1  1.568233e+09          1000\n",
       "2  1.568823e+09           500\n",
       "3  1.568823e+09          1000\n",
       "4  1.568825e+09           500"
      ]
     },
     "execution_count": 9,
     "metadata": {},
     "output_type": "execute_result"
    }
   ],
   "source": [
    "sensing_meta_data.head(5)"
   ]
  },
  {
   "cell_type": "code",
   "execution_count": 10,
   "metadata": {
    "ExecuteTime": {
     "end_time": "2020-05-07T23:40:01.371279Z",
     "start_time": "2020-05-07T23:40:01.355831Z"
    }
   },
   "outputs": [
    {
     "data": {
      "text/html": [
       "<div>\n",
       "<style scoped>\n",
       "    .dataframe tbody tr th:only-of-type {\n",
       "        vertical-align: middle;\n",
       "    }\n",
       "\n",
       "    .dataframe tbody tr th {\n",
       "        vertical-align: top;\n",
       "    }\n",
       "\n",
       "    .dataframe thead th {\n",
       "        text-align: right;\n",
       "    }\n",
       "</style>\n",
       "<table border=\"1\" class=\"dataframe\">\n",
       "  <thead>\n",
       "    <tr style=\"text-align: right;\">\n",
       "      <th></th>\n",
       "      <th>time</th>\n",
       "      <th>adaptive_state</th>\n",
       "      <th>in_startup_holdoff</th>\n",
       "      <th>sensing_status</th>\n",
       "      <th>stim_flags</th>\n",
       "      <th>stim_rate_hz</th>\n",
       "      <th>ld0.detection_status</th>\n",
       "      <th>ld0.fixed_decimal_point</th>\n",
       "      <th>ld0.threshold.high</th>\n",
       "      <th>ld0.threshold.low</th>\n",
       "      <th>...</th>\n",
       "      <th>ld1.threshold.low</th>\n",
       "      <th>ld1.output</th>\n",
       "      <th>ld1.feature.0</th>\n",
       "      <th>ld1.feature.1</th>\n",
       "      <th>ld1.feature.2</th>\n",
       "      <th>ld1.feature.3</th>\n",
       "      <th>program.0.amplitude_amp</th>\n",
       "      <th>program.1.amplitude_amp</th>\n",
       "      <th>program.2.amplitude_amp</th>\n",
       "      <th>program.3.amplitude_amp</th>\n",
       "    </tr>\n",
       "  </thead>\n",
       "  <tbody>\n",
       "    <tr>\n",
       "      <th>0</th>\n",
       "      <td>1.583858e+09</td>\n",
       "      <td>0</td>\n",
       "      <td>NaN</td>\n",
       "      <td>23</td>\n",
       "      <td>0</td>\n",
       "      <td>130.2</td>\n",
       "      <td>0</td>\n",
       "      <td>0</td>\n",
       "      <td>55001</td>\n",
       "      <td>55000</td>\n",
       "      <td>...</td>\n",
       "      <td>0</td>\n",
       "      <td>0</td>\n",
       "      <td>0</td>\n",
       "      <td>0</td>\n",
       "      <td>0</td>\n",
       "      <td>0</td>\n",
       "      <td>0.0019</td>\n",
       "      <td>0</td>\n",
       "      <td>0</td>\n",
       "      <td>0</td>\n",
       "    </tr>\n",
       "    <tr>\n",
       "      <th>1</th>\n",
       "      <td>1.583858e+09</td>\n",
       "      <td>0</td>\n",
       "      <td>NaN</td>\n",
       "      <td>23</td>\n",
       "      <td>0</td>\n",
       "      <td>130.2</td>\n",
       "      <td>0</td>\n",
       "      <td>0</td>\n",
       "      <td>55001</td>\n",
       "      <td>55000</td>\n",
       "      <td>...</td>\n",
       "      <td>0</td>\n",
       "      <td>0</td>\n",
       "      <td>0</td>\n",
       "      <td>0</td>\n",
       "      <td>0</td>\n",
       "      <td>0</td>\n",
       "      <td>0.0019</td>\n",
       "      <td>0</td>\n",
       "      <td>0</td>\n",
       "      <td>0</td>\n",
       "    </tr>\n",
       "    <tr>\n",
       "      <th>2</th>\n",
       "      <td>1.583858e+09</td>\n",
       "      <td>0</td>\n",
       "      <td>NaN</td>\n",
       "      <td>23</td>\n",
       "      <td>0</td>\n",
       "      <td>130.2</td>\n",
       "      <td>0</td>\n",
       "      <td>0</td>\n",
       "      <td>55001</td>\n",
       "      <td>55000</td>\n",
       "      <td>...</td>\n",
       "      <td>0</td>\n",
       "      <td>0</td>\n",
       "      <td>0</td>\n",
       "      <td>0</td>\n",
       "      <td>0</td>\n",
       "      <td>0</td>\n",
       "      <td>0.0019</td>\n",
       "      <td>0</td>\n",
       "      <td>0</td>\n",
       "      <td>0</td>\n",
       "    </tr>\n",
       "    <tr>\n",
       "      <th>3</th>\n",
       "      <td>1.583858e+09</td>\n",
       "      <td>0</td>\n",
       "      <td>NaN</td>\n",
       "      <td>23</td>\n",
       "      <td>0</td>\n",
       "      <td>130.2</td>\n",
       "      <td>0</td>\n",
       "      <td>0</td>\n",
       "      <td>55001</td>\n",
       "      <td>55000</td>\n",
       "      <td>...</td>\n",
       "      <td>0</td>\n",
       "      <td>0</td>\n",
       "      <td>0</td>\n",
       "      <td>0</td>\n",
       "      <td>0</td>\n",
       "      <td>0</td>\n",
       "      <td>0.0019</td>\n",
       "      <td>0</td>\n",
       "      <td>0</td>\n",
       "      <td>0</td>\n",
       "    </tr>\n",
       "    <tr>\n",
       "      <th>4</th>\n",
       "      <td>1.583858e+09</td>\n",
       "      <td>0</td>\n",
       "      <td>NaN</td>\n",
       "      <td>23</td>\n",
       "      <td>0</td>\n",
       "      <td>130.2</td>\n",
       "      <td>0</td>\n",
       "      <td>0</td>\n",
       "      <td>55001</td>\n",
       "      <td>55000</td>\n",
       "      <td>...</td>\n",
       "      <td>0</td>\n",
       "      <td>0</td>\n",
       "      <td>0</td>\n",
       "      <td>0</td>\n",
       "      <td>0</td>\n",
       "      <td>0</td>\n",
       "      <td>0.0019</td>\n",
       "      <td>0</td>\n",
       "      <td>0</td>\n",
       "      <td>0</td>\n",
       "    </tr>\n",
       "  </tbody>\n",
       "</table>\n",
       "<p>5 rows × 28 columns</p>\n",
       "</div>"
      ],
      "text/plain": [
       "           time  adaptive_state  in_startup_holdoff  sensing_status  \\\n",
       "0  1.583858e+09               0                 NaN              23   \n",
       "1  1.583858e+09               0                 NaN              23   \n",
       "2  1.583858e+09               0                 NaN              23   \n",
       "3  1.583858e+09               0                 NaN              23   \n",
       "4  1.583858e+09               0                 NaN              23   \n",
       "\n",
       "   stim_flags  stim_rate_hz  ld0.detection_status  ld0.fixed_decimal_point  \\\n",
       "0           0         130.2                     0                        0   \n",
       "1           0         130.2                     0                        0   \n",
       "2           0         130.2                     0                        0   \n",
       "3           0         130.2                     0                        0   \n",
       "4           0         130.2                     0                        0   \n",
       "\n",
       "   ld0.threshold.high  ld0.threshold.low  ...  ld1.threshold.low  ld1.output  \\\n",
       "0               55001              55000  ...                  0           0   \n",
       "1               55001              55000  ...                  0           0   \n",
       "2               55001              55000  ...                  0           0   \n",
       "3               55001              55000  ...                  0           0   \n",
       "4               55001              55000  ...                  0           0   \n",
       "\n",
       "   ld1.feature.0  ld1.feature.1  ld1.feature.2  ld1.feature.3  \\\n",
       "0              0              0              0              0   \n",
       "1              0              0              0              0   \n",
       "2              0              0              0              0   \n",
       "3              0              0              0              0   \n",
       "4              0              0              0              0   \n",
       "\n",
       "   program.0.amplitude_amp  program.1.amplitude_amp  program.2.amplitude_amp  \\\n",
       "0                   0.0019                        0                        0   \n",
       "1                   0.0019                        0                        0   \n",
       "2                   0.0019                        0                        0   \n",
       "3                   0.0019                        0                        0   \n",
       "4                   0.0019                        0                        0   \n",
       "\n",
       "   program.3.amplitude_amp  \n",
       "0                        0  \n",
       "1                        0  \n",
       "2                        0  \n",
       "3                        0  \n",
       "4                        0  \n",
       "\n",
       "[5 rows x 28 columns]"
      ]
     },
     "execution_count": 10,
     "metadata": {},
     "output_type": "execute_result"
    }
   ],
   "source": [
    "adaptive_meta_data.head(5)"
   ]
  },
  {
   "cell_type": "markdown",
   "metadata": {},
   "source": [
    "There are various sensing and stimulation related parameters that we can filter by. A full list of parameters are below: "
   ]
  },
  {
   "cell_type": "code",
   "execution_count": 11,
   "metadata": {
    "ExecuteTime": {
     "end_time": "2020-05-07T23:40:01.527139Z",
     "start_time": "2020-05-07T23:40:01.520892Z"
    }
   },
   "outputs": [
    {
     "name": "stdout",
     "output_type": "stream",
     "text": [
      "Stimulation Parameters: \n",
      "therapy_status\n",
      "pulse_width_lower_limit_seconds\n",
      "pulse_width_upper_limit_seconds\n",
      "ramp_repeat\n",
      "ramp_time\n",
      "rate_hz\n",
      "rate_lower_limit_hz\n",
      "rate_upper_limit_hz\n",
      "therapy_group_id\n",
      "therapy_config_valid\n",
      "program.0.amplitude_amps\n",
      "program.0.pulse_width_seconds\n",
      "program.0.valid\n",
      "program.0.subvalid\n",
      "program.1.amplitude_amps\n",
      "program.1.pulse_width_seconds\n",
      "program.1.valid\n",
      "program.1.subvalid\n",
      "program.2.amplitude_amps\n",
      "program.2.pulse_width_seconds\n",
      "program.2.valid\n",
      "program.2.subvalid\n",
      "program.3.amplitude_amps\n",
      "program.3.pulse_width_seconds\n",
      "program.3.valid\n",
      "program.3.subvalid\n",
      "program.0.electrode.0\n",
      "program.0.electrode.1\n",
      "program.0.electrode.2\n",
      "program.0.electrode.4\n",
      "program.0.electrode.8\n",
      "program.0.electrode.16\n",
      "program.0.electrode.32\n",
      "program.0.electrode.64\n",
      "program.0.electrode.128\n",
      "program.1.electrode.0\n",
      "program.1.electrode.1\n",
      "program.1.electrode.2\n",
      "program.1.electrode.4\n",
      "program.1.electrode.8\n",
      "program.1.electrode.16\n",
      "program.1.electrode.32\n",
      "program.1.electrode.64\n",
      "program.1.electrode.128\n",
      "program.2.electrode.0\n",
      "program.2.electrode.1\n",
      "program.2.electrode.2\n",
      "program.2.electrode.4\n",
      "program.2.electrode.8\n",
      "program.2.electrode.16\n",
      "program.2.electrode.32\n",
      "program.2.electrode.64\n",
      "program.2.electrode.128\n",
      "program.3.electrode.0\n",
      "program.3.electrode.1\n",
      "program.3.electrode.2\n",
      "program.3.electrode.4\n",
      "program.3.electrode.8\n",
      "program.3.electrode.16\n",
      "program.3.electrode.32\n",
      "program.3.electrode.64\n",
      "program.3.electrode.128\n",
      "\n",
      "Sensing Parameters: \n",
      "frequency_hz\n",
      "\n",
      "Adaptive Parameters: \n",
      "adaptive_state\n",
      "in_startup_holdoff\n",
      "sensing_status\n",
      "stim_flags\n",
      "stim_rate_hz\n",
      "ld0.detection_status\n",
      "ld0.fixed_decimal_point\n",
      "ld0.threshold.high\n",
      "ld0.threshold.low\n",
      "ld0.output\n",
      "ld0.feature.0\n",
      "ld0.feature.1\n",
      "ld0.feature.2\n",
      "ld0.feature.3\n",
      "ld1.detection_status\n",
      "ld1.fixed_decimal_point\n",
      "ld1.threshold.high\n",
      "ld1.threshold.low\n",
      "ld1.output\n",
      "ld1.feature.0\n",
      "ld1.feature.1\n",
      "ld1.feature.2\n",
      "ld1.feature.3\n",
      "program.0.amplitude_amp\n",
      "program.1.amplitude_amp\n",
      "program.2.amplitude_amp\n",
      "program.3.amplitude_amp\n"
     ]
    }
   ],
   "source": [
    "print('Stimulation Parameters: ')\n",
    "print(*list(stimulation_meta_data.columns[1:]), sep = \"\\n\") \n",
    "print('\\nSensing Parameters: ')\n",
    "print(*list(sensing_meta_data.columns[1:]), sep = \"\\n\")\n",
    "print('\\nAdaptive Parameters: ')\n",
    "print(*list(adaptive_meta_data.columns[1:]), sep = \"\\n\")"
   ]
  },
  {
   "cell_type": "markdown",
   "metadata": {},
   "source": [
    "We can filter by any combination of parameters. Before specifying particular values for each parameter, we can check what potential values are:"
   ]
  },
  {
   "cell_type": "code",
   "execution_count": 12,
   "metadata": {
    "ExecuteTime": {
     "end_time": "2020-05-07T23:40:04.352213Z",
     "start_time": "2020-05-07T23:40:04.349065Z"
    }
   },
   "outputs": [
    {
     "name": "stdout",
     "output_type": "stream",
     "text": [
      "Unique values for sampling frequency: \n",
      "[ 500 1000  250]\n"
     ]
    }
   ],
   "source": [
    "print('Unique values for sampling frequency: ')\n",
    "print(sensing_meta_data.frequency_hz.unique())"
   ]
  },
  {
   "cell_type": "markdown",
   "metadata": {},
   "source": [
    "## 3. Identify epochs that match meta data parameters\n",
    "\n",
    "### Example 1\n",
    "\n",
    "We will start off with an example filter using 2 parameters:\n",
    "- Therapy status (off stimulation)\n",
    "- Sampling frequency (250 hz)"
   ]
  },
  {
   "cell_type": "code",
   "execution_count": 13,
   "metadata": {
    "ExecuteTime": {
     "end_time": "2020-05-07T23:40:05.696315Z",
     "start_time": "2020-05-07T23:40:05.694178Z"
    }
   },
   "outputs": [],
   "source": [
    "# meta data filter settings\n",
    "\n",
    "target_therapy_status = 0            # 0 = off, 1 = on <int>\n",
    "target_sampling_frequency = 250      # sampling rate (hz) <int>"
   ]
  },
  {
   "cell_type": "code",
   "execution_count": 14,
   "metadata": {
    "ExecuteTime": {
     "end_time": "2020-05-07T23:40:06.036150Z",
     "start_time": "2020-05-07T23:40:06.026093Z"
    }
   },
   "outputs": [],
   "source": [
    "# get list of epochs matching each condition/criteria\n",
    "\n",
    "epochs_therapy_status = find_epochs(\n",
    "    stimulation_meta_data.time,\n",
    "    stimulation_meta_data.therapy_status,\n",
    "    target_therapy_status\n",
    ")\n",
    "epochs_sampling_frequency = find_epochs(\n",
    "    sensing_meta_data.time,\n",
    "    sensing_meta_data.frequency_hz,\n",
    "    target_sampling_frequency\n",
    ")"
   ]
  },
  {
   "cell_type": "code",
   "execution_count": 15,
   "metadata": {
    "ExecuteTime": {
     "end_time": "2020-05-07T23:40:06.484123Z",
     "start_time": "2020-05-07T23:40:06.481816Z"
    }
   },
   "outputs": [],
   "source": [
    "# find overlap across all epochs\n",
    "\n",
    "epochs_overlap_all = find_overlapping_epochs(epochs_therapy_status, epochs_sampling_frequency)"
   ]
  },
  {
   "cell_type": "code",
   "execution_count": 16,
   "metadata": {
    "ExecuteTime": {
     "end_time": "2020-05-07T23:40:07.260024Z",
     "start_time": "2020-05-07T23:40:06.952848Z"
    }
   },
   "outputs": [
    {
     "data": {
      "image/png": "[encoded data removed]",
      "text/plain": [
       "<Figure size 864x360 with 1 Axes>"
      ]
     },
     "metadata": {
      "needs_background": "light"
     },
     "output_type": "display_data"
    }
   ],
   "source": [
    "# plot data availability\n",
    "\n",
    "plot_epochs(\n",
    "    [\n",
    "        'therapy status',\n",
    "        'sampling frequency',\n",
    "        'match all'\n",
    "    ],\n",
    "    epochs_therapy_status,\n",
    "    epochs_sampling_frequency,\n",
    "    epochs_overlap_all\n",
    ")"
   ]
  },
  {
   "cell_type": "markdown",
   "metadata": {},
   "source": [
    "For each individual filtering parameter, shaded bars correspond to epochs when data exist and meet that criterion. The 'match all' row identifies epochs that meet all critera.\n",
    "\n",
    "Note that time stamps are in UTC time, and will need to be adjusted for your particular time zone. Pacific time adjustment is -8 hours (-28800 seconds)."
   ]
  },
  {
   "cell_type": "markdown",
   "metadata": {},
   "source": [
    "### Example 2\n",
    "\n",
    "Here is a second example, using a few more parameters to filter by:\n",
    "- Therapy status (on stimulation)\n",
    "- Sampling frequency (250 hz)\n",
    "- Stimulation frequency (130.2 hz)\n",
    "- Stimulation amplitude (.002 A)\n",
    "- Therapy group id (2)\n",
    "- Pulse width lower limit (.00006 s)\n",
    "- Pulse width upper limit (.0001 s)\n",
    "\n",
    "\n",
    "We can also add a filter parameter to only keep epochs of a minimum duration:\n",
    "- Minimum epoch duration (60 s)"
   ]
  },
  {
   "cell_type": "code",
   "execution_count": 17,
   "metadata": {
    "ExecuteTime": {
     "end_time": "2020-05-07T23:40:10.570412Z",
     "start_time": "2020-05-07T23:40:10.054093Z"
    },
    "scrolled": false
   },
   "outputs": [
    {
     "data": {
      "image/png": "[encoded data removed]",
      "text/plain": [
       "<Figure size 864x360 with 1 Axes>"
      ]
     },
     "metadata": {
      "needs_background": "light"
     },
     "output_type": "display_data"
    }
   ],
   "source": [
    "# meta data filter settings\n",
    "target_therapy_status = 1                            # (0 = off, 1 = on) <int>\n",
    "target_sampling_frequency = 250                      # sampling rate (hz) <int>\n",
    "target_stimulation_frequency = 130.2                 # stimulation frequency (hz) <float>\n",
    "target_stimulation_amplitude = 0.002                 # stimulation amplitude (A) <float>\n",
    "target_therapy_group_id = 2                          # group id <int>\n",
    "target_pulse_width_upper_limit_seconds = 1.e-04      # upper pulse width limit (sec) <float>\n",
    "min_epoch_duration = 60                              # minimum epoch duration (sec) <int>\n",
    "\n",
    "# get list of epochs matching each condition/criteria\n",
    "epochs_therapy_status = find_epochs(\n",
    "    stimulation_meta_data.time,\n",
    "    stimulation_meta_data.therapy_status,\n",
    "    target_therapy_status\n",
    ")\n",
    "epochs_sampling_frequency = find_epochs(\n",
    "    sensing_meta_data.time,\n",
    "    sensing_meta_data.frequency_hz,\n",
    "    target_sampling_frequency\n",
    ")\n",
    "epochs_stimulation_frequency = find_epochs(\n",
    "    stimulation_meta_data.time,\n",
    "    stimulation_meta_data.rate_hz,\n",
    "    target_stimulation_frequency\n",
    ")\n",
    "epochs_stimulation_amplitude = find_epochs(\n",
    "    stimulation_meta_data.time,\n",
    "    stimulation_meta_data['program.0.amplitude_amps'],\n",
    "    target_stimulation_amplitude\n",
    ")\n",
    "epochs_therapy_group_id = find_epochs(\n",
    "    stimulation_meta_data.time,\n",
    "    stimulation_meta_data.therapy_group_id,\n",
    "    target_therapy_group_id\n",
    ")\n",
    "epochs_pulse_width_upper_limit = find_epochs(\n",
    "    stimulation_meta_data.time,\n",
    "    stimulation_meta_data.pulse_width_upper_limit_seconds,\n",
    "    target_pulse_width_upper_limit_seconds\n",
    ")\n",
    "\n",
    "# find overlap across all epochs\n",
    "epochs_overlap_all = find_overlapping_epochs(\n",
    "    epochs_therapy_status,\n",
    "    epochs_sampling_frequency, \n",
    "    epochs_stimulation_frequency, \n",
    "    epochs_stimulation_amplitude, \n",
    "    epochs_therapy_group_id,\n",
    "    epochs_pulse_width_upper_limit\n",
    ")\n",
    "\n",
    "# only keep epochs that are greater than or equal to the minimum duration\n",
    "if epochs_overlap_all:\n",
    "    epochs_overlap_all = filter_by_epoch_duration(epochs_overlap_all, min_epoch_duration)\n",
    "    \n",
    "# plot data availability\n",
    "plot_epochs(\n",
    "    [\n",
    "        'therapy status',\n",
    "        'sampling frequency',\n",
    "        'stimulation frequency',\n",
    "        'stimulation amplitude',\n",
    "        'therapy group id',\n",
    "        'pulse width upper limit',\n",
    "        'match all'\n",
    "    ],\n",
    "    epochs_therapy_status,\n",
    "    epochs_sampling_frequency,\n",
    "    epochs_stimulation_frequency,\n",
    "    epochs_stimulation_amplitude, \n",
    "    epochs_therapy_group_id,\n",
    "    epochs_pulse_width_upper_limit,\n",
    "    epochs_overlap_all\n",
    ")"
   ]
  },
  {
   "cell_type": "markdown",
   "metadata": {},
   "source": [
    "### Example 3\n",
    "\n",
    "In this last example, we will filter by adaptive stimulation parameters as well.\n",
    "\n",
    "- Therapy status (on stimulation)\n",
    "- Sampling frequency (250 hz)\n",
    "- Adaptive sensing status (151, Medtronic code)\n",
    "- Adaptive ld 0 detection status (15, Medtronic code)\n",
    "- Minimum duration (10 min)\n",
    "\n",
    "Certain parameters, including adaptive settings, are currently still the raw values from the json files. They will need to be 'translated' for meaning."
   ]
  },
  {
   "cell_type": "code",
   "execution_count": 18,
   "metadata": {
    "ExecuteTime": {
     "end_time": "2020-05-07T23:40:12.513697Z",
     "start_time": "2020-05-07T23:40:12.510700Z"
    }
   },
   "outputs": [
    {
     "name": "stdout",
     "output_type": "stream",
     "text": [
      "Unique values for sensing status: \n",
      "[ 23 151]\n"
     ]
    }
   ],
   "source": [
    "print('Unique values for sensing status: ')\n",
    "print(adaptive_meta_data.sensing_status.unique())"
   ]
  },
  {
   "cell_type": "code",
   "execution_count": 19,
   "metadata": {
    "ExecuteTime": {
     "end_time": "2020-05-07T23:40:12.894902Z",
     "start_time": "2020-05-07T23:40:12.891948Z"
    }
   },
   "outputs": [
    {
     "name": "stdout",
     "output_type": "stream",
     "text": [
      "Unique values for ld0 detection status: \n",
      "[ 0 47 15 64 32 37  5]\n"
     ]
    }
   ],
   "source": [
    "print('Unique values for ld0 detection status: ')\n",
    "print(adaptive_meta_data['ld0.detection_status'].unique())"
   ]
  },
  {
   "cell_type": "code",
   "execution_count": 20,
   "metadata": {
    "ExecuteTime": {
     "end_time": "2020-05-07T23:40:15.022211Z",
     "start_time": "2020-05-07T23:40:14.020572Z"
    }
   },
   "outputs": [
    {
     "data": {
      "image/png": "[encoded data removed]",
      "text/plain": [
       "<Figure size 864x360 with 1 Axes>"
      ]
     },
     "metadata": {
      "needs_background": "light"
     },
     "output_type": "display_data"
    }
   ],
   "source": [
    "# meta data filter settings\n",
    "target_therapy_status = 1                            # (0 = off, 1 = on) <int>\n",
    "target_sampling_frequency = 250                      # sampling rate (hz) <int>\n",
    "target_adaptive_sensing_status = 151                 # mdt code for adaptive sensing status\n",
    "target_ld0_detection_status = 15                     # mdt code for ld0 detection status\n",
    "min_epoch_duration = 10*60                           # minimum epoch duration (sec) <int>\n",
    "\n",
    "# find epochs for each individual condition\n",
    "epochs_therapy_status = find_epochs(\n",
    "    stimulation_meta_data.time,\n",
    "    stimulation_meta_data.therapy_status,\n",
    "    target_therapy_status\n",
    ")\n",
    "epochs_sampling_frequency = find_epochs(\n",
    "    sensing_meta_data.time,\n",
    "    sensing_meta_data.frequency_hz,\n",
    "    target_sampling_frequency\n",
    ")\n",
    "epochs_adaptive_sensing_status = find_epochs(\n",
    "    adaptive_meta_data.time,\n",
    "    adaptive_meta_data.sensing_status,\n",
    "    target_adaptive_sensing_status\n",
    ")\n",
    "epochs_ld0_detection_status = find_epochs(\n",
    "    adaptive_meta_data.time,\n",
    "    adaptive_meta_data['ld0.detection_status'],\n",
    "    target_ld0_detection_status\n",
    ")\n",
    "\n",
    "# find overlap across all epochs\n",
    "epochs_overlap_all = find_overlapping_epochs(\n",
    "    epochs_therapy_status,\n",
    "    epochs_sampling_frequency, \n",
    "    epochs_adaptive_sensing_status,\n",
    "    epochs_ld0_detection_status\n",
    ")\n",
    "\n",
    "# only keep epochs that are greater than or equal to the minimum duration\n",
    "if epochs_overlap_all:\n",
    "    epochs_overlap_all = filter_by_epoch_duration(epochs_overlap_all, min_epoch_duration)\n",
    "    \n",
    "# plot data availability\n",
    "plot_epochs(\n",
    "    [\n",
    "        'therapy status',\n",
    "        'sampling frequency',\n",
    "        'adaptive sensing status',\n",
    "        'ld0 detection status',\n",
    "        'match all'\n",
    "    ],\n",
    "    epochs_therapy_status,\n",
    "    epochs_sampling_frequency,\n",
    "    epochs_adaptive_sensing_status,\n",
    "    epochs_ld0_detection_status,\n",
    "    epochs_overlap_all\n",
    ")"
   ]
  },
  {
   "cell_type": "markdown",
   "metadata": {},
   "source": [
    "## 4. Use epoch time stamps to retrieve data\n",
    "\n",
    "After selecting and specifying filtering criteria, the function `find_overlapping_epochs` returns  `epochs_overlap_all`, a list of time stamps that indicate epoch start and end times for every epoch that matches all filtering criteria. We can use these time stamps to obtain raw time series."
   ]
  },
  {
   "cell_type": "code",
   "execution_count": 21,
   "metadata": {
    "ExecuteTime": {
     "end_time": "2020-05-07T23:40:16.936549Z",
     "start_time": "2020-05-07T23:40:16.932308Z"
    },
    "scrolled": true
   },
   "outputs": [
    {
     "name": "stdout",
     "output_type": "stream",
     "text": [
      "Epoch 0 : 17:56:23.989000\n",
      "Epoch 1 : 0:46:30.513000\n",
      "Epoch 2 : 0:15:00.012000\n",
      "Epoch 3 : 0:12:00.001000\n",
      "Epoch 4 : 0:27:30.170000\n",
      "Epoch 5 : 0:18:00.014000\n",
      "Epoch 6 : 0:28:29.995000\n",
      "Epoch 7 : 0:20:00.004000\n",
      "Epoch 8 : 0:11:51.798000\n",
      "Epoch 9 : 34 days, 17:26:24.896000\n",
      "Epoch 10 : 6 days, 10:55:55.496000\n"
     ]
    }
   ],
   "source": [
    "# print duration of each epoch\n",
    "\n",
    "for idx,epoch in enumerate(epochs_overlap_all):\n",
    "    start = datetime.datetime.fromtimestamp(epoch[0])\n",
    "    stop = datetime.datetime.fromtimestamp(epoch[1])\n",
    "    print('Epoch', str(idx), ':', stop-start)"
   ]
  },
  {
   "cell_type": "markdown",
   "metadata": {},
   "source": [
    "We can loop through the epochs, download the raw data, and save to CSV files. For demonstration, we will download the raw time series for epoch 2. "
   ]
  },
  {
   "cell_type": "code",
   "execution_count": 22,
   "metadata": {
    "ExecuteTime": {
     "end_time": "2020-05-07T23:40:37.085691Z",
     "start_time": "2020-05-07T23:40:18.828474Z"
    }
   },
   "outputs": [],
   "source": [
    "# retrieve raw data for one epoch\n",
    "\n",
    "file_path = '/Users/witney/Documents/api_data/nb03_ex01_neural_time_series.csv'\n",
    "\n",
    "epoch_num = 2\n",
    "\n",
    "params = {\n",
    "    'device_id': 'NPC700403H',\n",
    "    'start_time': epochs_overlap_all[epoch_num][0],\n",
    "    'end_time': epochs_overlap_all[epoch_num][1],\n",
    "    'channels': '0,1,2,3',\n",
    "    'timestamp': 'unix',\n",
    "}\n",
    "\n",
    "neural_time_series = get_neural_time_series(client, params, file_path)"
   ]
  },
  {
   "cell_type": "code",
   "execution_count": 23,
   "metadata": {
    "ExecuteTime": {
     "end_time": "2020-05-07T23:40:38.629269Z",
     "start_time": "2020-05-07T23:40:37.365350Z"
    }
   },
   "outputs": [
    {
     "data": {
      "text/html": [
       "<div>\n",
       "<style scoped>\n",
       "    .dataframe tbody tr th:only-of-type {\n",
       "        vertical-align: middle;\n",
       "    }\n",
       "\n",
       "    .dataframe tbody tr th {\n",
       "        vertical-align: top;\n",
       "    }\n",
       "\n",
       "    .dataframe thead th {\n",
       "        text-align: right;\n",
       "    }\n",
       "</style>\n",
       "<table border=\"1\" class=\"dataframe\">\n",
       "  <thead>\n",
       "    <tr style=\"text-align: right;\">\n",
       "      <th></th>\n",
       "      <th>timestamp</th>\n",
       "      <th>channel.0</th>\n",
       "      <th>channel.1</th>\n",
       "      <th>channel.2</th>\n",
       "      <th>channel.3</th>\n",
       "    </tr>\n",
       "  </thead>\n",
       "  <tbody>\n",
       "    <tr>\n",
       "      <th>0</th>\n",
       "      <td>2020-03-11 16:29:32.400000095</td>\n",
       "      <td>-0.000156</td>\n",
       "      <td>-0.000140</td>\n",
       "      <td>-0.000196</td>\n",
       "      <td>-0.000168</td>\n",
       "    </tr>\n",
       "    <tr>\n",
       "      <th>1</th>\n",
       "      <td>2020-03-11 16:29:32.404000044</td>\n",
       "      <td>-0.000157</td>\n",
       "      <td>-0.000141</td>\n",
       "      <td>-0.000197</td>\n",
       "      <td>-0.000167</td>\n",
       "    </tr>\n",
       "    <tr>\n",
       "      <th>2</th>\n",
       "      <td>2020-03-11 16:29:32.407999992</td>\n",
       "      <td>-0.000164</td>\n",
       "      <td>-0.000150</td>\n",
       "      <td>-0.000185</td>\n",
       "      <td>-0.000172</td>\n",
       "    </tr>\n",
       "    <tr>\n",
       "      <th>3</th>\n",
       "      <td>2020-03-11 16:29:32.411999941</td>\n",
       "      <td>-0.000161</td>\n",
       "      <td>-0.000148</td>\n",
       "      <td>-0.000191</td>\n",
       "      <td>-0.000165</td>\n",
       "    </tr>\n",
       "    <tr>\n",
       "      <th>4</th>\n",
       "      <td>2020-03-11 16:29:32.415999889</td>\n",
       "      <td>-0.000165</td>\n",
       "      <td>-0.000148</td>\n",
       "      <td>-0.000215</td>\n",
       "      <td>-0.000162</td>\n",
       "    </tr>\n",
       "    <tr>\n",
       "      <th>...</th>\n",
       "      <td>...</td>\n",
       "      <td>...</td>\n",
       "      <td>...</td>\n",
       "      <td>...</td>\n",
       "      <td>...</td>\n",
       "    </tr>\n",
       "    <tr>\n",
       "      <th>224228</th>\n",
       "      <td>2020-03-11 16:44:32.394000053</td>\n",
       "      <td>-0.000153</td>\n",
       "      <td>-0.000138</td>\n",
       "      <td>-0.000250</td>\n",
       "      <td>-0.000169</td>\n",
       "    </tr>\n",
       "    <tr>\n",
       "      <th>224229</th>\n",
       "      <td>2020-03-11 16:44:32.398000002</td>\n",
       "      <td>-0.000161</td>\n",
       "      <td>-0.000146</td>\n",
       "      <td>-0.000233</td>\n",
       "      <td>-0.000165</td>\n",
       "    </tr>\n",
       "    <tr>\n",
       "      <th>224230</th>\n",
       "      <td>2020-03-11 16:44:32.400000095</td>\n",
       "      <td>-0.000152</td>\n",
       "      <td>-0.000136</td>\n",
       "      <td>-0.000219</td>\n",
       "      <td>-0.000162</td>\n",
       "    </tr>\n",
       "    <tr>\n",
       "      <th>224231</th>\n",
       "      <td>2020-03-11 16:44:32.404000044</td>\n",
       "      <td>-0.000157</td>\n",
       "      <td>-0.000142</td>\n",
       "      <td>-0.000221</td>\n",
       "      <td>-0.000166</td>\n",
       "    </tr>\n",
       "    <tr>\n",
       "      <th>224232</th>\n",
       "      <td>2020-03-11 16:44:32.407999992</td>\n",
       "      <td>-0.000151</td>\n",
       "      <td>-0.000135</td>\n",
       "      <td>-0.000223</td>\n",
       "      <td>-0.000174</td>\n",
       "    </tr>\n",
       "  </tbody>\n",
       "</table>\n",
       "<p>224233 rows × 5 columns</p>\n",
       "</div>"
      ],
      "text/plain": [
       "                           timestamp  channel.0  channel.1  channel.2  \\\n",
       "0      2020-03-11 16:29:32.400000095  -0.000156  -0.000140  -0.000196   \n",
       "1      2020-03-11 16:29:32.404000044  -0.000157  -0.000141  -0.000197   \n",
       "2      2020-03-11 16:29:32.407999992  -0.000164  -0.000150  -0.000185   \n",
       "3      2020-03-11 16:29:32.411999941  -0.000161  -0.000148  -0.000191   \n",
       "4      2020-03-11 16:29:32.415999889  -0.000165  -0.000148  -0.000215   \n",
       "...                              ...        ...        ...        ...   \n",
       "224228 2020-03-11 16:44:32.394000053  -0.000153  -0.000138  -0.000250   \n",
       "224229 2020-03-11 16:44:32.398000002  -0.000161  -0.000146  -0.000233   \n",
       "224230 2020-03-11 16:44:32.400000095  -0.000152  -0.000136  -0.000219   \n",
       "224231 2020-03-11 16:44:32.404000044  -0.000157  -0.000142  -0.000221   \n",
       "224232 2020-03-11 16:44:32.407999992  -0.000151  -0.000135  -0.000223   \n",
       "\n",
       "        channel.3  \n",
       "0       -0.000168  \n",
       "1       -0.000167  \n",
       "2       -0.000172  \n",
       "3       -0.000165  \n",
       "4       -0.000162  \n",
       "...           ...  \n",
       "224228  -0.000169  \n",
       "224229  -0.000165  \n",
       "224230  -0.000162  \n",
       "224231  -0.000166  \n",
       "224232  -0.000174  \n",
       "\n",
       "[224233 rows x 5 columns]"
      ]
     },
     "execution_count": 23,
     "metadata": {},
     "output_type": "execute_result"
    }
   ],
   "source": [
    "# change timestamps to datetime for plotting\n",
    "\n",
    "neural_time_series.timestamp = pd.to_datetime(neural_time_series.timestamp, unit='s')\n",
    "neural_time_series"
   ]
  },
  {
   "cell_type": "code",
   "execution_count": 24,
   "metadata": {
    "ExecuteTime": {
     "end_time": "2020-05-07T23:40:39.427332Z",
     "start_time": "2020-05-07T23:40:38.851413Z"
    }
   },
   "outputs": [
    {
     "data": {
      "text/plain": [
       "Text(0, 0.5, 'Voltage (V)')"
      ]
     },
     "execution_count": 24,
     "metadata": {},
     "output_type": "execute_result"
    },
    {
     "data": {
      "image/png": "[encoded data removed]",
      "text/plain": [
       "<Figure size 1080x360 with 1 Axes>"
      ]
     },
     "metadata": {
      "needs_background": "light"
     },
     "output_type": "display_data"
    }
   ],
   "source": [
    "# plot epoch across all four channels\n",
    "\n",
    "fig, ax = plt.subplots(figsize=(15,5))\n",
    "ax.plot(neural_time_series.timestamp,neural_time_series['channel.0'])\n",
    "ax.plot(neural_time_series.timestamp,neural_time_series['channel.1'])\n",
    "ax.plot(neural_time_series.timestamp,neural_time_series['channel.2'])\n",
    "ax.plot(neural_time_series.timestamp,neural_time_series['channel.3'])\n",
    "plt.title('Raw Time Series')\n",
    "plt.xlabel('Time')\n",
    "plt.ylabel('Voltage (V)')"
   ]
  },
  {
   "cell_type": "markdown",
   "metadata": {},
   "source": [
    "## Summary\n",
    "\n",
    "We pulled information about sensing, stimulation, and adaptive parameters for a single subject. We used these parameters to further filter the data and identify epochs in which all our criteria were met. The user can specify which combination of parameters to filter by. We then demonstrated how to use these time stamps to pull raw time series data to save as a CSV."
   ]
  }
 ],
 "metadata": {
  "kernelspec": {
   "display_name": "Python 3",
   "language": "python",
   "name": "python3"
  },
  "language_info": {
   "codemirror_mode": {
    "name": "ipython",
    "version": 3
   },
   "file_extension": ".py",
   "mimetype": "text/x-python",
   "name": "python",
   "nbconvert_exporter": "python",
   "pygments_lexer": "ipython3",
   "version": "3.8.2"
  },
  "varInspector": {
   "cols": {
    "lenName": 16,
    "lenType": 16,
    "lenVar": 40
   },
   "kernels_config": {
    "python": {
     "delete_cmd_postfix": "",
     "delete_cmd_prefix": "del ",
     "library": "var_list.py",
     "varRefreshCmd": "print(var_dic_list())"
    },
    "r": {
     "delete_cmd_postfix": ") ",
     "delete_cmd_prefix": "rm(",
     "library": "var_list.r",
     "varRefreshCmd": "cat(var_dic_list()) "
    }
   },
   "position": {
    "height": "509.219px",
    "left": "1127.09px",
    "right": "20px",
    "top": "116.979px",
    "width": "356.771px"
   },
   "types_to_exclude": [
    "module",
    "function",
    "builtin_function_or_method",
    "instance",
    "_Feature"
   ],
   "window_display": false
  }
 },
 "nbformat": 4,
 "nbformat_minor": 4
}
