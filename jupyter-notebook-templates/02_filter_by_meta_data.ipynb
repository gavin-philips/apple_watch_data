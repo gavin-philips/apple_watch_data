{
 "cells": [
  {
   "cell_type": "markdown",
   "metadata": {},
   "source": [
    "# Advanced data selection\n",
    "\n",
    "Often times we want to subselect neural data that match certain meta data parameters. For example, to compare neurophysiology on vs. off deep brain stimulation, we would need to filter data by therapy status. We could also filter by stimulation frequency, stimulation amplitude, sensing sampling rate, etc. \n",
    "\n",
    "This template is an example of how to use Rune's API to perform a data query filtered by meta data. We specify filtering parameters and target values, and we retrieve a list of time stamps for data epochs that match our critera. These time stamps can then be used to obtain raw time series, spectrograms, and/or power spectra."
   ]
  },
  {
   "cell_type": "code",
   "execution_count": 1,
   "metadata": {
    "ExecuteTime": {
     "end_time": "2020-04-27T22:56:49.882132Z",
     "start_time": "2020-04-27T22:56:49.164837Z"
    }
   },
   "outputs": [],
   "source": [
    "import requests\n",
    "import datetime\n",
    "import pandas as pd\n",
    "import numpy as np\n",
    "import matplotlib.pyplot as plt\n",
    "from collections import defaultdict"
   ]
  },
  {
   "cell_type": "markdown",
   "metadata": {},
   "source": [
    "## Functions for API calls\n",
    "\n",
    "These wrapper functions use Rune's API to pull meta data about stimulation, sensing, and adaptive parameters. The outputs are state values for each parameter, in addition to time stamps for each state value. \n",
    "\n",
    "Additionally, the API can be used to pull raw neural time series data, spectrograms, and power spectra. A wrapper function for pulling neural time series is included for demonstration of how to retrieve data after we have identified time stamps for data of interest."
   ]
  },
  {
   "cell_type": "code",
   "execution_count": 2,
   "metadata": {
    "ExecuteTime": {
     "end_time": "2020-04-27T22:56:51.135171Z",
     "start_time": "2020-04-27T22:56:51.118870Z"
    }
   },
   "outputs": [],
   "source": [
    "def get_stimulation_meta_data(start_time, end_time, key_id, key_secret, device_id):\n",
    "    '''\n",
    "    Returns stimulation parameters\n",
    "    \n",
    "    Input: \n",
    "        start_time and end_time as unix time stamps\n",
    "        API credentials\n",
    "    Output: \n",
    "        Dataframe with stimulation parameters\n",
    "    '''\n",
    "    \n",
    "    url = \"https://stream.runelabs.io/v1/state.json\"\n",
    "    headers = {\n",
    "        'X-Rune-Client-Key-ID': key_id,\n",
    "        'X-Rune-Client-Access-Key': key_secret\n",
    "    }\n",
    "    params = {\n",
    "        'device_id': device_id,\n",
    "        'start_time': start_time,\n",
    "        'end_time': end_time,\n",
    "        'timestamp': 'unix',\n",
    "        'event': 'stimulation_state',\n",
    "        'fields': 'therapy_status,'\n",
    "                  'pulse_width_lower_limit_seconds,'\n",
    "                  'pulse_width_upper_limit_seconds,'\n",
    "                  'ramp_repeat,'\n",
    "                  'ramp_time,rate_hz,'\n",
    "                  'rate_lower_limit_hz,'\n",
    "                  'rate_upper_limit_hz,'\n",
    "                  'therapy_group_id,'\n",
    "                  'therapy_config_valid,'\n",
    "                  'program.0.amplitude_amps,'\n",
    "                  'program.0.pulse_width_seconds,'\n",
    "                  'program.0.valid,'\n",
    "                  'program.0.subvalid,'\n",
    "                  'program.1.amplitude_amps,'\n",
    "                  'program.1.pulse_width_seconds,'\n",
    "                  'program.1.valid,'\n",
    "                  'program.1.subvalid,'\n",
    "                  'program.2.amplitude_amps,'\n",
    "                  'program.2.pulse_width_seconds,'\n",
    "                  'program.2.valid,'\n",
    "                  'program.2.subvalid,'\n",
    "                  'program.3.amplitude_amps,'\n",
    "                  'program.3.pulse_width_seconds,'\n",
    "                  'program.3.valid,'\n",
    "                  'program.3.subvalid,'\n",
    "                  'program.0.electrode.0,'\n",
    "                  'program.0.electrode.1,'\n",
    "                  'program.0.electrode.2,'\n",
    "                  'program.0.electrode.4,'\n",
    "                  'program.0.electrode.8,'\n",
    "                  'program.0.electrode.16,'\n",
    "                  'program.0.electrode.32,'\n",
    "                  'program.0.electrode.64,'\n",
    "                  'program.0.electrode.128,'\n",
    "                  'program.1.electrode.0,'\n",
    "                  'program.1.electrode.1,'\n",
    "                  'program.1.electrode.2,'\n",
    "                  'program.1.electrode.4,'\n",
    "                  'program.1.electrode.8,'\n",
    "                  'program.1.electrode.16,'\n",
    "                  'program.1.electrode.32,'\n",
    "                  'program.1.electrode.64,'\n",
    "                  'program.1.electrode.128,'\n",
    "                  'program.2.electrode.0,'\n",
    "                  'program.2.electrode.1,'\n",
    "                  'program.2.electrode.2,'\n",
    "                  'program.2.electrode.4,'\n",
    "                  'program.2.electrode.8,'\n",
    "                  'program.2.electrode.16,'\n",
    "                  'program.2.electrode.32,'\n",
    "                  'program.2.electrode.64,'\n",
    "                  'program.2.electrode.128,'\n",
    "                  'program.3.electrode.0,'\n",
    "                  'program.3.electrode.1,'\n",
    "                  'program.3.electrode.2,'\n",
    "                  'program.3.electrode.4,'\n",
    "                  'program.3.electrode.8,'\n",
    "                  'program.3.electrode.16,'\n",
    "                  'program.3.electrode.32,'\n",
    "                  'program.3.electrode.64,'\n",
    "                  'program.3.electrode.128'\n",
    "    }\n",
    "    response = requests.get(url, headers=headers, params=params).json()\n",
    "    df = pd.DataFrame(response['result'])  \n",
    "    \n",
    "    if sum(df.drop(['time', 'cardinality'], axis=1).any())==0:\n",
    "        print('No stimulation meta data found')\n",
    "        \n",
    "    return df\n",
    "\n",
    "\n",
    "def get_sensing_meta_data(start_time, end_time, key_id, key_secret, device_id):\n",
    "    '''\n",
    "    Returns sensing parameters\n",
    "    \n",
    "    Input: \n",
    "        start_time and end_time as unix time stamps\n",
    "        API credentials\n",
    "    Output: \n",
    "        Dataframe with stimulation parameters\n",
    "    '''\n",
    "    \n",
    "    url = \"https://stream.runelabs.io/v1/state.json\"\n",
    "    headers = {\n",
    "        'X-Rune-Client-Key-ID': key_id,\n",
    "        'X-Rune-Client-Access-Key': key_secret\n",
    "    }\n",
    "    params = {\n",
    "        'device_id': device_id,\n",
    "        'start_time': start_time,\n",
    "        'end_time': end_time,\n",
    "        'timestamp': 'unix',\n",
    "        'event': 'sampling_frequency',\n",
    "        'fields': 'frequency_hz'\n",
    "    }\n",
    "    response = requests.get(url, headers=headers, params=params).json()\n",
    "    df = pd.DataFrame(response['result'])\n",
    "    \n",
    "    if sum(df.drop(['time', 'cardinality'], axis=1).any())==0:\n",
    "        print('No sensing meta data found')\n",
    "        \n",
    "    return df\n",
    "\n",
    "\n",
    "def get_adaptive_meta_data(start_time, end_time, key_id, key_secret, device_id):\n",
    "    '''\n",
    "    Returns adaptive stimulation settings\n",
    "    \n",
    "    Input: \n",
    "        start_time and end_time as unix time stamps\n",
    "        API credentials\n",
    "    Output: \n",
    "        Dataframe with stimulation parameters\n",
    "    '''\n",
    "    \n",
    "    url = \"https://stream.runelabs.io/v1/state.json\"\n",
    "    headers = {\n",
    "        'X-Rune-Client-Key-ID': key_id,\n",
    "        'X-Rune-Client-Access-Key': key_secret\n",
    "    }\n",
    "    params = {\n",
    "        'device_id': device_id,\n",
    "        'start_time': start_time,\n",
    "        'end_time': end_time,\n",
    "        'timestamp': 'unix',\n",
    "        'event': 'stimulation_state.adaptive',\n",
    "        'fields': 'adaptive_state,'\n",
    "                  'in_startup_holdoff,'\n",
    "                  'sensing_status,'\n",
    "                  'stim_flags,'\n",
    "                  'stim_rate_hz,'\n",
    "                  'ld0.detection_status,'\n",
    "                  'ld0.fixed_decimal_point,'\n",
    "                  'ld0.threshold.high,'\n",
    "                  'ld0.threshold.low,'\n",
    "                  'ld0.output,'\n",
    "                  'ld0.feature.0,'\n",
    "                  'ld0.feature.1,'\n",
    "                  'ld0.feature.2,'\n",
    "                  'ld0.feature.3,'\n",
    "                  'ld1.detection_status,'\n",
    "                  'ld1.fixed_decimal_point,'\n",
    "                  'ld1.threshold.high,'\n",
    "                  'ld1.threshold.low,'\n",
    "                  'ld1.output,'\n",
    "                  'ld1.feature.0,'\n",
    "                  'ld1.feature.1,'\n",
    "                  'ld1.feature.2,'\n",
    "                  'ld1.feature.3,'\n",
    "                  'program.0.amplitude_amp,'\n",
    "                  'program.1.amplitude_amp,'\n",
    "                  'program.2.amplitude_amp,'\n",
    "                  'program.3.amplitude_amp'\n",
    "    }\n",
    "    \n",
    "    response = requests.get(url, headers=headers, params=params).json()\n",
    "    df = pd.DataFrame(response['result']) \n",
    "    \n",
    "    if sum(df.drop(['time', 'cardinality'], axis=1).any())==0:\n",
    "        print('No adaptive meta data found')\n",
    "        \n",
    "    return df\n",
    "\n",
    "\n",
    "def get_neural_time_series(start_time, end_time, channel, key_id, key_secret, device_id, save_directory):\n",
    "    '''\n",
    "    Retrieves raw neural time series between two time stamps and saves data to a csv\n",
    "    \n",
    "    Input: \n",
    "        start_time and end_time as unix time stamps\n",
    "        channel, comma separated string of channel number(s)\n",
    "        API credentials\n",
    "        save_directory, filepath for saving\n",
    "    '''\n",
    "    \n",
    "    url = \"https://stream.runelabs.io/v1/lfp.csv\"\n",
    "    headers = {\n",
    "        'X-Rune-Client-Key-ID': key_id,\n",
    "        'X-Rune-Client-Access-Key': key_secret\n",
    "    }\n",
    "    params = {\n",
    "        'channels': channel,\n",
    "        'device_id': device_id,\n",
    "        'start_time': start_time,\n",
    "        'end_time': end_time,\n",
    "        'timestamp': 'unix',\n",
    "    }   \n",
    "    \n",
    "    with requests.get(url, headers=headers, params=params, stream=True) as r:\n",
    "        r.raise_for_status()\n",
    "\n",
    "        with open(save_directory, 'wb') as f:\n",
    "            for chunk in r.iter_content(chunk_size=8192): \n",
    "                f.write(chunk)"
   ]
  },
  {
   "cell_type": "markdown",
   "metadata": {},
   "source": [
    "## Functions for finding data epochs\n",
    "\n",
    "Rune's API returns timestamps for state values. These timestamps reflect times when information about these state values were available and/or changed. The following functions take those timestamps and generate time windows, or epochs, where data match individual or multiple criteria. "
   ]
  },
  {
   "cell_type": "code",
   "execution_count": 3,
   "metadata": {
    "ExecuteTime": {
     "end_time": "2020-04-27T22:56:52.248740Z",
     "start_time": "2020-04-27T22:56:52.236754Z"
    }
   },
   "outputs": [],
   "source": [
    "def find_epochs(timestamp_series, state_series, state_match):\n",
    "    '''\n",
    "    Returns start/stop time of data epochs based off state changes in meta data\n",
    "    For example, we want to find all data epochs in which sampling rate == 250 \n",
    "    Each epoch starts when the first sampling rate event == 250 \n",
    "    Each epoch ends when sampling rate changes to different value\n",
    "    \n",
    "    Input: \n",
    "        time_series - unix time stamps for each state <pd series>\n",
    "        state_series - values for a particular state <pd series>\n",
    "        state_match - desired state value <int, float, or string>\n",
    "    Output: \n",
    "        epochs - list of unix time stamps for epoch start/stop\n",
    "    '''\n",
    "\n",
    "    # identify whether state values are equal to state_match or not    \n",
    "    # calculate changes in adjacent values to identify state changes\n",
    "    match = pd.DataFrame([1 if x == state_match else 0 for x in state_series])\n",
    "    match['change'] = match.diff()\n",
    "    \n",
    "    # when 'change' is 0, then a current value is identical to the previous value\n",
    "    # an epoch begins when the change value is 1\n",
    "    # an epoch ends when the change value is -1\n",
    "    start_idx = [((np.isnan(x) and y == 1) or x == 1) for x,y in zip(match['change'],match[0])]\n",
    "    stop_idx = [x == -1 for x in match['change']]\n",
    "    \n",
    "    # obtain datetime stamps for the start and stop of all epochs\n",
    "    window_start = timestamp_series[start_idx]\n",
    "    window_stop = timestamp_series[stop_idx]\n",
    "\n",
    "    # if the last epoch has no stop, add the last datetime stamp as the stop\n",
    "    if len(window_start) > len(window_stop):\n",
    "        window_stop.loc[len(window_stop)] = timestamp_series.iloc[-1]\n",
    "        \n",
    "    # make array of start/stop times\n",
    "    epochs = np.array([window_start[:], window_stop[:]]).transpose()\n",
    "\n",
    "    return epochs\n",
    "\n",
    "\n",
    "def find_overlapping_epochs(*conditions):\n",
    "    '''\n",
    "    Return epochs where all conditions are true.\n",
    "\n",
    "    Input:\n",
    "        One or more conditions. Each condition is a list of epochs.\n",
    "        Each epoch is a list/tuple with 2 elements: the start and\n",
    "        end time of a time interval where the condition was true.\n",
    "\n",
    "    Output:\n",
    "        A list of tuples, where each tuple represents the start and\n",
    "        end time of an epoch where all the conditions are true\n",
    "    '''\n",
    "\n",
    "    # Compile a set of all the timestamps (the start times AND\n",
    "    # end times of any of our conditions).\n",
    "    times = set()\n",
    "\n",
    "    # Also create a dictionary that summarizes the overall change at\n",
    "    # each timestamp: the net number of conditions that \"turn on\" (or\n",
    "    # \"become\" true).\n",
    "    change_at_time = defaultdict(int)\n",
    "\n",
    "    for condition in conditions:\n",
    "        for epoch in condition:\n",
    "            start, end = epoch\n",
    "            times.add(start)\n",
    "            times.add(end)\n",
    "            # When a condition starts, the change at time t is positive\n",
    "            change_at_time[start] += 1\n",
    "            # When a condition ends, the change at time t is negative\n",
    "            change_at_time[end] -= 1\n",
    "\n",
    "    results = []\n",
    "\n",
    "    # Now go through the timestamps *in order*, and keep track of\n",
    "    # the cumulative sum of change_at_time:\n",
    "    num_on = 0\n",
    "\n",
    "    num_conditions = len(conditions)\n",
    "\n",
    "    # When we find a timestamp where all of the conditions are true\n",
    "    # (i.e. cumulative sum = num_conditions), we'll keep track of the\n",
    "    # start time:\n",
    "    current_epoch_start = None\n",
    "\n",
    "    for time in sorted(times):\n",
    "        num_on += change_at_time[time]\n",
    "        if num_on == num_conditions and current_epoch_start == None:\n",
    "            current_epoch_start = time\n",
    "\n",
    "        if num_on != num_conditions and current_epoch_start != None:\n",
    "            results.append((current_epoch_start, time))\n",
    "            current_epoch_start = None\n",
    "\n",
    "    if not results:\n",
    "        print('No epochs matching all criteria')\n",
    "    \n",
    "    return results\n",
    "\n",
    "\n",
    "def filter_by_epoch_duration(epochs, min_duration):\n",
    "    '''\n",
    "    Given a list of epoch start/end times, returns epoch start/end times\n",
    "    that are at least minimum duration (sec)\n",
    "    '''\n",
    "    epoch_durations = [epoch[1]-epoch[0] for epoch in epochs]\n",
    "    keep_idx = [epoch_duration>=min_duration for epoch_duration in epoch_durations]\n",
    "    \n",
    "    return np.array(epochs_overlap_all)[np.array(keep_idx)].tolist()"
   ]
  },
  {
   "cell_type": "markdown",
   "metadata": {},
   "source": [
    "## Function for plotting data \n",
    "\n",
    "This function is for visualizing data availability that meet filtering criteria.\n",
    "\n",
    "Note: In this notebook, plots are static. Use magic function `%matplotlib notebook` for interactive zooming and panning."
   ]
  },
  {
   "cell_type": "code",
   "execution_count": 4,
   "metadata": {
    "ExecuteTime": {
     "end_time": "2020-04-27T22:56:53.298638Z",
     "start_time": "2020-04-27T22:56:53.292353Z"
    }
   },
   "outputs": [],
   "source": [
    "def plot_epochs_matching_meta_data_filter(condition_names,*conditions):\n",
    "    '''\n",
    "    Plots one or more conditions and the times in which those conditions were met\n",
    "    \n",
    "    Input:\n",
    "        List of condition names and list of start/end times for epochs matching each condition\n",
    "    '''\n",
    "    \n",
    "    num_conditions = len(conditions)\n",
    "    \n",
    "    fig,ax = plt.subplots(figsize=(12,5))\n",
    "\n",
    "    for idx,condition in enumerate(conditions):\n",
    "        for epoch in condition:\n",
    "            ax.plot([datetime.datetime.fromtimestamp(epoch[0]), datetime.datetime.fromtimestamp(epoch[1])], [idx, idx], linewidth=25)\n",
    "\n",
    "    plt.xticks(rotation=90)\n",
    "    plt.yticks(np.arange(num_conditions), condition_names)\n",
    "    plt.tight_layout()\n",
    "    plt.xlabel('Time')\n",
    "    plt.ylabel('Filter Criteria')\n",
    "    plt.title('Data Availability')\n"
   ]
  },
  {
   "cell_type": "markdown",
   "metadata": {},
   "source": [
    "## Data selection in a single subject\n",
    "\n",
    "First we will use the API to pull all meta data. We will specify which parameters we want to filter by, and then we will identify epochs in which all filtering criteria were met. We can customize which meta data parameters and how many we use.\n",
    "\n",
    "## 1. Initialize API credentials\n",
    "\n",
    "First initialize your credentials for accessing patient data through the API. These credentials are patient-specific and can be found on the Rune web app https://app.runelabs.io/patients. In the code below, replace `%env ...` with your own credential strings."
   ]
  },
  {
   "cell_type": "code",
   "execution_count": 5,
   "metadata": {
    "ExecuteTime": {
     "end_time": "2020-04-27T22:56:55.016430Z",
     "start_time": "2020-04-27T22:56:55.011414Z"
    }
   },
   "outputs": [],
   "source": [
    "# subj credentials\n",
    "\n",
    "key_id = %env rcs07_key_id\n",
    "key_secret = %env rcs07_key_secret\n",
    "device_id = %env rcs07_device_id_right"
   ]
  },
  {
   "cell_type": "markdown",
   "metadata": {},
   "source": [
    "Specify time of interest for pulling meta data. Here we specify a particular date range, but if you want to pull **all** meta data, you can set `start_time` to 0 and `end_time` to today:\n",
    "```\n",
    "start_time = 0\n",
    "end_time = datetime.datetime.now().timestamp()\n",
    "```\n",
    "\n",
    "All json API outputs are paginated per 30,000 entries. If you are requesting data for long periods of time, keep in mind that results may extend beyond 1 page."
   ]
  },
  {
   "cell_type": "code",
   "execution_count": 6,
   "metadata": {
    "ExecuteTime": {
     "end_time": "2020-04-27T22:56:56.915558Z",
     "start_time": "2020-04-27T22:56:56.912277Z"
    }
   },
   "outputs": [],
   "source": [
    "# specify time of interest\n",
    "\n",
    "start_time = datetime.datetime(2019, 9, 1).timestamp()  # unix time stamp <datetime>\n",
    "end_time = datetime.datetime(2020, 4, 27).timestamp()   # unix time stamp <datetime>"
   ]
  },
  {
   "cell_type": "markdown",
   "metadata": {},
   "source": [
    "## 2. Pull meta data for stimulation and sensing parameters"
   ]
  },
  {
   "cell_type": "code",
   "execution_count": 7,
   "metadata": {
    "ExecuteTime": {
     "end_time": "2020-04-27T22:57:00.265780Z",
     "start_time": "2020-04-27T22:56:58.520206Z"
    }
   },
   "outputs": [],
   "source": [
    "# get stimulation, sensing, and adaptive meta data\n",
    "\n",
    "stimulation_meta_data = get_stimulation_meta_data(\n",
    "    start_time, \n",
    "    end_time, \n",
    "    key_id, \n",
    "    key_secret,\n",
    "    device_id\n",
    ")\n",
    "\n",
    "sensing_meta_data = get_sensing_meta_data(\n",
    "    start_time, \n",
    "    end_time, \n",
    "    key_id, \n",
    "    key_secret, \n",
    "    device_id\n",
    ")\n",
    "\n",
    "adaptive_meta_data = get_adaptive_meta_data(\n",
    "    start_time, \n",
    "    end_time, \n",
    "    key_id, \n",
    "    key_secret, \n",
    "    device_id\n",
    ")"
   ]
  },
  {
   "cell_type": "markdown",
   "metadata": {},
   "source": [
    "There are various sensing and stimulation related parameters that we can filter by. A full list of parameters are below: "
   ]
  },
  {
   "cell_type": "code",
   "execution_count": 8,
   "metadata": {
    "ExecuteTime": {
     "end_time": "2020-04-27T22:57:04.745501Z",
     "start_time": "2020-04-27T22:57:04.737724Z"
    }
   },
   "outputs": [
    {
     "name": "stdout",
     "output_type": "stream",
     "text": [
      "Stimulation Parameters: \n",
      "program.0.amplitude_amps\n",
      "program.0.electrode.0\n",
      "program.0.electrode.1\n",
      "program.0.electrode.128\n",
      "program.0.electrode.16\n",
      "program.0.electrode.2\n",
      "program.0.electrode.32\n",
      "program.0.electrode.4\n",
      "program.0.electrode.64\n",
      "program.0.electrode.8\n",
      "program.0.pulse_width_seconds\n",
      "program.0.subvalid\n",
      "program.0.valid\n",
      "program.1.amplitude_amps\n",
      "program.1.electrode.0\n",
      "program.1.electrode.1\n",
      "program.1.electrode.128\n",
      "program.1.electrode.16\n",
      "program.1.electrode.2\n",
      "program.1.electrode.32\n",
      "program.1.electrode.4\n",
      "program.1.electrode.64\n",
      "program.1.electrode.8\n",
      "program.1.pulse_width_seconds\n",
      "program.1.subvalid\n",
      "program.1.valid\n",
      "program.2.amplitude_amps\n",
      "program.2.electrode.0\n",
      "program.2.electrode.1\n",
      "program.2.electrode.128\n",
      "program.2.electrode.16\n",
      "program.2.electrode.2\n",
      "program.2.electrode.32\n",
      "program.2.electrode.4\n",
      "program.2.electrode.64\n",
      "program.2.electrode.8\n",
      "program.2.pulse_width_seconds\n",
      "program.2.subvalid\n",
      "program.2.valid\n",
      "program.3.amplitude_amps\n",
      "program.3.electrode.0\n",
      "program.3.electrode.1\n",
      "program.3.electrode.128\n",
      "program.3.electrode.16\n",
      "program.3.electrode.2\n",
      "program.3.electrode.32\n",
      "program.3.electrode.4\n",
      "program.3.electrode.64\n",
      "program.3.electrode.8\n",
      "program.3.pulse_width_seconds\n",
      "program.3.subvalid\n",
      "program.3.valid\n",
      "pulse_width_lower_limit_seconds\n",
      "pulse_width_upper_limit_seconds\n",
      "ramp_repeat\n",
      "ramp_time\n",
      "rate_hz\n",
      "rate_lower_limit_hz\n",
      "rate_upper_limit_hz\n",
      "therapy_config_valid\n",
      "therapy_group_id\n",
      "therapy_status\n",
      "time\n",
      "\n",
      "Sensing Parameters: \n",
      "frequency_hz\n",
      "time\n",
      "\n",
      "Adaptive Parameters: \n",
      "cardinality\n",
      "in_startup_holdoff\n",
      "ld0.detection_status\n",
      "ld0.feature.0\n",
      "ld0.feature.1\n",
      "ld0.feature.2\n",
      "ld0.feature.3\n",
      "ld0.fixed_decimal_point\n",
      "ld0.output\n",
      "ld0.threshold.high\n",
      "ld0.threshold.low\n",
      "ld1.detection_status\n",
      "ld1.feature.0\n",
      "ld1.feature.1\n",
      "ld1.feature.2\n",
      "ld1.feature.3\n",
      "ld1.fixed_decimal_point\n",
      "ld1.output\n",
      "ld1.threshold.high\n",
      "ld1.threshold.low\n",
      "program.0.amplitude_amp\n",
      "program.1.amplitude_amp\n",
      "program.2.amplitude_amp\n",
      "program.3.amplitude_amp\n",
      "sensing_status\n",
      "stim_flags\n",
      "stim_rate_hz\n",
      "time\n"
     ]
    }
   ],
   "source": [
    "print('Stimulation Parameters: ')\n",
    "print(*list(stimulation_meta_data.columns[1:]), sep = \"\\n\") \n",
    "print('\\nSensing Parameters: ')\n",
    "print(*list(sensing_meta_data.columns[1:]), sep = \"\\n\")\n",
    "print('\\nAdaptive Parameters: ')\n",
    "print(*list(adaptive_meta_data.columns[1:]), sep = \"\\n\")"
   ]
  },
  {
   "cell_type": "markdown",
   "metadata": {},
   "source": [
    "We can filter by any combination of parameters. Before specifying particular values for each parameter, we can check what potential values are:"
   ]
  },
  {
   "cell_type": "code",
   "execution_count": 9,
   "metadata": {
    "ExecuteTime": {
     "end_time": "2020-04-27T22:57:10.761576Z",
     "start_time": "2020-04-27T22:57:10.757588Z"
    }
   },
   "outputs": [
    {
     "name": "stdout",
     "output_type": "stream",
     "text": [
      "Unique values for sampling frequency: \n",
      "[ 500 1000  250]\n"
     ]
    }
   ],
   "source": [
    "print('Unique values for sampling frequency: ')\n",
    "print(sensing_meta_data.frequency_hz.unique())"
   ]
  },
  {
   "cell_type": "markdown",
   "metadata": {},
   "source": [
    "## 3. Identify epochs that match meta data parameters\n",
    "\n",
    "### Example 1\n",
    "\n",
    "We will start off with an example filter using 2 parameters:\n",
    "- Therapy status (off stimulation)\n",
    "- Sampling frequency (250 hz)"
   ]
  },
  {
   "cell_type": "code",
   "execution_count": 10,
   "metadata": {
    "ExecuteTime": {
     "end_time": "2020-04-27T22:57:12.752470Z",
     "start_time": "2020-04-27T22:57:12.749599Z"
    }
   },
   "outputs": [],
   "source": [
    "# meta data filter settings\n",
    "\n",
    "target_therapy_status = 0            # 0 = off, 1 = on <int>\n",
    "target_sampling_frequency = 250      # sampling rate (hz) <int>"
   ]
  },
  {
   "cell_type": "code",
   "execution_count": 11,
   "metadata": {
    "ExecuteTime": {
     "end_time": "2020-04-27T22:57:14.090142Z",
     "start_time": "2020-04-27T22:57:14.078195Z"
    }
   },
   "outputs": [],
   "source": [
    "# get list of epochs matching each condition/criteria\n",
    "\n",
    "epochs_therapy_status = find_epochs(\n",
    "    stimulation_meta_data.time,\n",
    "    stimulation_meta_data.therapy_status,\n",
    "    target_therapy_status\n",
    ")\n",
    "epochs_sampling_frequency = find_epochs(\n",
    "    sensing_meta_data.time,\n",
    "    sensing_meta_data.frequency_hz,\n",
    "    target_sampling_frequency\n",
    ")"
   ]
  },
  {
   "cell_type": "code",
   "execution_count": 12,
   "metadata": {
    "ExecuteTime": {
     "end_time": "2020-04-27T22:57:14.909876Z",
     "start_time": "2020-04-27T22:57:14.906608Z"
    }
   },
   "outputs": [],
   "source": [
    "# find overlap across all epochs\n",
    "\n",
    "epochs_overlap_all = find_overlapping_epochs(epochs_therapy_status, epochs_sampling_frequency)"
   ]
  },
  {
   "cell_type": "code",
   "execution_count": 13,
   "metadata": {
    "ExecuteTime": {
     "end_time": "2020-04-27T22:57:16.302858Z",
     "start_time": "2020-04-27T22:57:16.005147Z"
    }
   },
   "outputs": [
    {
     "data": {
      "image/png": "[encoded data removed]",
      "text/plain": [
       "<Figure size 864x360 with 1 Axes>"
      ]
     },
     "metadata": {
      "needs_background": "light"
     },
     "output_type": "display_data"
    }
   ],
   "source": [
    "# plot data availability\n",
    "\n",
    "plot_epochs_matching_meta_data_filter(\n",
    "    [\n",
    "        'therapy status',\n",
    "        'sampling frequency',\n",
    "        'match all'\n",
    "    ],\n",
    "    epochs_therapy_status,\n",
    "    epochs_sampling_frequency,\n",
    "    epochs_overlap_all\n",
    ")"
   ]
  },
  {
   "cell_type": "markdown",
   "metadata": {},
   "source": [
    "For each individual filtering parameter, shaded bars correspond to epochs when data exist and meet that criterion. The 'match all' row identifies epochs that meet all critera.\n",
    "\n",
    "Note that time stamps are in UTC time, and will need to be adjusted for your particular time zone. Pacific time adjustment is -8 hours (-28800 seconds)."
   ]
  },
  {
   "cell_type": "markdown",
   "metadata": {},
   "source": [
    "### Example 2\n",
    "\n",
    "Here is a second example, using a few more parameters to filter by:\n",
    "- Therapy status (on stimulation)\n",
    "- Sampling frequency (250 hz)\n",
    "- Stimulation frequency (130.2 hz)\n",
    "- Stimulation amplitude (.002 A)\n",
    "- Therapy group id (2)\n",
    "- Pulse width lower limit (.00006 s)\n",
    "- Pulse width upper limit (.0001 s)\n",
    "\n",
    "\n",
    "We can also add a filter parameter to only keep epochs of a minimum duration:\n",
    "- Minimum epoch duration (60 s)"
   ]
  },
  {
   "cell_type": "code",
   "execution_count": 14,
   "metadata": {
    "ExecuteTime": {
     "end_time": "2020-04-27T22:57:21.621833Z",
     "start_time": "2020-04-27T22:57:21.022731Z"
    },
    "scrolled": false
   },
   "outputs": [
    {
     "data": {
      "image/png": "[encoded data removed]",
      "text/plain": [
       "<Figure size 864x360 with 1 Axes>"
      ]
     },
     "metadata": {
      "needs_background": "light"
     },
     "output_type": "display_data"
    }
   ],
   "source": [
    "# meta data filter settings\n",
    "target_therapy_status = 1                            # (0 = off, 1 = on) <int>\n",
    "target_sampling_frequency = 250                      # sampling rate (hz) <int>\n",
    "target_stimulation_frequency = 130.2                 # stimulation frequency (hz) <float>\n",
    "target_stimulation_amplitude = 0.002                 # stimulation amplitude (A) <float>\n",
    "target_therapy_group_id = 2                          # group id <int>\n",
    "target_pulse_width_lower_limit_seconds = 6.e-05      # lower pulse width limit (sec) <float>\n",
    "target_pulse_width_upper_limit_seconds = 1.e-04      # upper pulse width limit (sec) <float>\n",
    "min_epoch_duration = 60                              # minimum epoch duration (sec) <int>\n",
    "\n",
    "# get list of epochs matching each condition/criteria\n",
    "epochs_therapy_status = find_epochs(\n",
    "    stimulation_meta_data.time,\n",
    "    stimulation_meta_data.therapy_status,\n",
    "    target_therapy_status\n",
    ")\n",
    "epochs_sampling_frequency = find_epochs(\n",
    "    sensing_meta_data.time,\n",
    "    sensing_meta_data.frequency_hz,\n",
    "    target_sampling_frequency\n",
    ")\n",
    "epochs_stimulation_frequency = find_epochs(\n",
    "    stimulation_meta_data.time,\n",
    "    stimulation_meta_data.rate_hz,\n",
    "    target_stimulation_frequency\n",
    ")\n",
    "epochs_stimulation_amplitude = find_epochs(\n",
    "    stimulation_meta_data.time,\n",
    "    stimulation_meta_data['program.0.amplitude_amps'],\n",
    "    target_stimulation_amplitude\n",
    ")\n",
    "epochs_therapy_group_id = find_epochs(\n",
    "    stimulation_meta_data.time,\n",
    "    stimulation_meta_data.therapy_group_id,\n",
    "    target_therapy_group_id\n",
    ")\n",
    "epochs_pulse_width_lower_limit = find_epochs(\n",
    "    stimulation_meta_data.time,\n",
    "    stimulation_meta_data.pulse_width_lower_limit_seconds,\n",
    "    target_pulse_width_lower_limit_seconds\n",
    ")\n",
    "epochs_pulse_width_upper_limit = find_epochs(\n",
    "    stimulation_meta_data.time,\n",
    "    stimulation_meta_data.pulse_width_upper_limit_seconds,\n",
    "    target_pulse_width_upper_limit_seconds\n",
    ")\n",
    "\n",
    "# find overlap across all epochs\n",
    "epochs_overlap_all = find_overlapping_epochs(\n",
    "    epochs_therapy_status,\n",
    "    epochs_sampling_frequency, \n",
    "    epochs_stimulation_frequency, \n",
    "    epochs_stimulation_amplitude, \n",
    "    epochs_therapy_group_id,\n",
    "    epochs_pulse_width_lower_limit,\n",
    "    epochs_pulse_width_upper_limit\n",
    ")\n",
    "\n",
    "# only keep epochs that are greater than or equal to the minimum duration\n",
    "if epochs_overlap_all:\n",
    "    epochs_overlap_all = filter_by_epoch_duration(epochs_overlap_all, min_epoch_duration)\n",
    "    \n",
    "# plot data availability\n",
    "plot_epochs_matching_meta_data_filter(\n",
    "    [\n",
    "        'therapy status',\n",
    "        'sampling frequency',\n",
    "        'stimulation frequency',\n",
    "        'stimulation amplitude',\n",
    "        'therapy group id',\n",
    "        'pulse width lower limit',\n",
    "        'pulse width upper limit',\n",
    "        'match all'\n",
    "    ],\n",
    "    epochs_therapy_status,\n",
    "    epochs_sampling_frequency,\n",
    "    epochs_stimulation_frequency,\n",
    "    epochs_stimulation_amplitude, \n",
    "    epochs_therapy_group_id,\n",
    "    epochs_pulse_width_lower_limit,\n",
    "    epochs_pulse_width_upper_limit,\n",
    "    epochs_overlap_all\n",
    ")"
   ]
  },
  {
   "cell_type": "markdown",
   "metadata": {},
   "source": [
    "### Example 3\n",
    "\n",
    "In this last example, we will filter by adaptive stimulation parameters as well.\n",
    "\n",
    "- Therapy status (on stimulation)\n",
    "- Sampling frequency (250 hz)\n",
    "- Adaptive sensing status (151, Medtronic code)\n",
    "- Adaptive ld 0 detection status (15, Medtronic code)\n",
    "- Minimum duration (10 min)\n",
    "\n",
    "Certain parameters, including adaptive settings, are currently still the raw values from the json files. They will need to be 'translated' for meaning."
   ]
  },
  {
   "cell_type": "code",
   "execution_count": 15,
   "metadata": {
    "ExecuteTime": {
     "end_time": "2020-04-27T22:58:09.562874Z",
     "start_time": "2020-04-27T22:58:09.559594Z"
    }
   },
   "outputs": [
    {
     "name": "stdout",
     "output_type": "stream",
     "text": [
      "Unique values for sensing status: \n",
      "[ 23 151]\n"
     ]
    }
   ],
   "source": [
    "print('Unique values for sensing status: ')\n",
    "print(adaptive_meta_data.sensing_status.unique())"
   ]
  },
  {
   "cell_type": "code",
   "execution_count": 16,
   "metadata": {
    "ExecuteTime": {
     "end_time": "2020-04-27T22:58:10.259609Z",
     "start_time": "2020-04-27T22:58:10.255586Z"
    }
   },
   "outputs": [
    {
     "name": "stdout",
     "output_type": "stream",
     "text": [
      "Unique values for ld0 detection status: \n",
      "[ 0 47 15 64 32]\n"
     ]
    }
   ],
   "source": [
    "print('Unique values for ld0 detection status: ')\n",
    "print(adaptive_meta_data['ld0.detection_status'].unique())"
   ]
  },
  {
   "cell_type": "code",
   "execution_count": 17,
   "metadata": {
    "ExecuteTime": {
     "end_time": "2020-04-27T22:58:33.841820Z",
     "start_time": "2020-04-27T22:58:33.392479Z"
    }
   },
   "outputs": [
    {
     "data": {
      "image/png": "[encoded data removed]",
      "text/plain": [
       "<Figure size 864x360 with 1 Axes>"
      ]
     },
     "metadata": {
      "needs_background": "light"
     },
     "output_type": "display_data"
    }
   ],
   "source": [
    "# meta data filter settings\n",
    "target_therapy_status = 1                            # (0 = off, 1 = on) <int>\n",
    "target_sampling_frequency = 250                      # sampling rate (hz) <int>\n",
    "target_adaptive_sensing_status = 151                 # mdt code for adaptive sensing status\n",
    "target_ld0_detection_status = 15                     # mdt code for ld0 detection status\n",
    "min_epoch_duration = 10*60                           # minimum epoch duration (sec) <int>\n",
    "\n",
    "# find epochs for each individual condition\n",
    "epochs_therapy_status = find_epochs(\n",
    "    stimulation_meta_data.time,\n",
    "    stimulation_meta_data.therapy_status,\n",
    "    target_therapy_status\n",
    ")\n",
    "epochs_sampling_frequency = find_epochs(\n",
    "    sensing_meta_data.time,\n",
    "    sensing_meta_data.frequency_hz,\n",
    "    target_sampling_frequency\n",
    ")\n",
    "epochs_adaptive_sensing_status = find_epochs(\n",
    "    adaptive_meta_data.time,\n",
    "    adaptive_meta_data.sensing_status,\n",
    "    target_adaptive_sensing_status\n",
    ")\n",
    "epochs_ld0_detection_status = find_epochs(\n",
    "    adaptive_meta_data.time,\n",
    "    adaptive_meta_data['ld0.detection_status'],\n",
    "    target_ld0_detection_status\n",
    ")\n",
    "\n",
    "# find overlap across all epochs\n",
    "epochs_overlap_all = find_overlapping_epochs(\n",
    "    epochs_therapy_status,\n",
    "    epochs_sampling_frequency, \n",
    "    epochs_adaptive_sensing_status,\n",
    "    epochs_ld0_detection_status\n",
    ")\n",
    "\n",
    "# only keep epochs that are greater than or equal to the minimum duration\n",
    "if epochs_overlap_all:\n",
    "    epochs_overlap_all = filter_by_epoch_duration(epochs_overlap_all, min_epoch_duration)\n",
    "    \n",
    "# plot data availability\n",
    "plot_epochs_matching_meta_data_filter(\n",
    "    [\n",
    "        'therapy status',\n",
    "        'sampling frequency',\n",
    "        'adaptive sensing status',\n",
    "        'ld0 detection status',\n",
    "        'match all'\n",
    "    ],\n",
    "    epochs_therapy_status,\n",
    "    epochs_sampling_frequency,\n",
    "    epochs_adaptive_sensing_status,\n",
    "    epochs_ld0_detection_status,\n",
    "    epochs_overlap_all\n",
    ")"
   ]
  },
  {
   "cell_type": "markdown",
   "metadata": {},
   "source": [
    "## 4. Use epoch time stamps to retrieve data\n",
    "\n",
    "After selecting and specifying filtering criteria, the function `find_overlapping_epochs` returns  `epochs_overlap_all`, a list of time stamps that indicate epoch start and end times for every epoch that matches all filtering criteria. We can use these time stamps to obtain raw time series."
   ]
  },
  {
   "cell_type": "code",
   "execution_count": 18,
   "metadata": {
    "ExecuteTime": {
     "end_time": "2020-04-27T22:59:56.491265Z",
     "start_time": "2020-04-27T22:59:56.486118Z"
    },
    "scrolled": true
   },
   "outputs": [
    {
     "name": "stdout",
     "output_type": "stream",
     "text": [
      "Epoch 0 : 17:56:23.989000\n",
      "Epoch 1 : 0:46:30.513000\n",
      "Epoch 2 : 0:15:00.012000\n",
      "Epoch 3 : 0:12:00.001000\n",
      "Epoch 4 : 0:27:30.170000\n",
      "Epoch 5 : 0:18:00.014000\n",
      "Epoch 6 : 0:28:29.995000\n",
      "Epoch 7 : 0:20:00.004000\n",
      "Epoch 8 : 0:11:51.798000\n",
      "Epoch 9 : 38 days, 8:29:14.895000\n"
     ]
    }
   ],
   "source": [
    "# print duration of each epoch\n",
    "\n",
    "for idx,epoch in enumerate(epochs_overlap_all):\n",
    "    start = datetime.datetime.fromtimestamp(epoch[0])\n",
    "    stop = datetime.datetime.fromtimestamp(epoch[1])\n",
    "    print('Epoch', str(idx), ':', stop-start)"
   ]
  },
  {
   "cell_type": "markdown",
   "metadata": {},
   "source": [
    "We can loop through the epochs, download the raw data, and save to CSV files. For demonstration, we will download the raw time series for epoch 3. \n",
    "\n",
    "Note: Currently, longer epochs (>1 day) will need to be cut up into smaller segments for the API calls, otherwise the request will time out. In the future, larger requests will be paginated."
   ]
  },
  {
   "cell_type": "code",
   "execution_count": 19,
   "metadata": {
    "ExecuteTime": {
     "end_time": "2020-04-27T23:00:41.181750Z",
     "start_time": "2020-04-27T23:00:38.812005Z"
    }
   },
   "outputs": [],
   "source": [
    "# retrieve raw data for one epoch\n",
    "\n",
    "save_directory = '/Users/witney/Documents/rune_data/rcs07_sample_epoch_time_series'\n",
    "\n",
    "epoch_num = 3\n",
    "\n",
    "get_neural_time_series(\n",
    "    epochs_overlap_all[epoch_num][0], \n",
    "    epochs_overlap_all[epoch_num][1],\n",
    "    '0,1,2,3',\n",
    "    key_id, \n",
    "    key_secret, \n",
    "    device_id, \n",
    "    save_directory\n",
    ")"
   ]
  },
  {
   "cell_type": "code",
   "execution_count": 20,
   "metadata": {
    "ExecuteTime": {
     "end_time": "2020-04-27T23:00:44.830142Z",
     "start_time": "2020-04-27T23:00:43.756176Z"
    }
   },
   "outputs": [
    {
     "data": {
      "text/html": [
       "<div>\n",
       "<style scoped>\n",
       "    .dataframe tbody tr th:only-of-type {\n",
       "        vertical-align: middle;\n",
       "    }\n",
       "\n",
       "    .dataframe tbody tr th {\n",
       "        vertical-align: top;\n",
       "    }\n",
       "\n",
       "    .dataframe thead th {\n",
       "        text-align: right;\n",
       "    }\n",
       "</style>\n",
       "<table border=\"1\" class=\"dataframe\">\n",
       "  <thead>\n",
       "    <tr style=\"text-align: right;\">\n",
       "      <th></th>\n",
       "      <th>timestamp</th>\n",
       "      <th>channel.0</th>\n",
       "      <th>channel.1</th>\n",
       "      <th>channel.2</th>\n",
       "      <th>channel.3</th>\n",
       "    </tr>\n",
       "  </thead>\n",
       "  <tbody>\n",
       "    <tr>\n",
       "      <th>0</th>\n",
       "      <td>2020-03-11 16:48:02.404000044</td>\n",
       "      <td>-0.000158</td>\n",
       "      <td>-0.000144</td>\n",
       "      <td>-0.000199</td>\n",
       "      <td>-0.000181</td>\n",
       "    </tr>\n",
       "    <tr>\n",
       "      <th>1</th>\n",
       "      <td>2020-03-11 16:48:02.407999992</td>\n",
       "      <td>-0.000150</td>\n",
       "      <td>-0.000134</td>\n",
       "      <td>-0.000192</td>\n",
       "      <td>-0.000157</td>\n",
       "    </tr>\n",
       "    <tr>\n",
       "      <th>2</th>\n",
       "      <td>2020-03-11 16:48:02.411999941</td>\n",
       "      <td>-0.000160</td>\n",
       "      <td>-0.000146</td>\n",
       "      <td>-0.000195</td>\n",
       "      <td>-0.000121</td>\n",
       "    </tr>\n",
       "    <tr>\n",
       "      <th>3</th>\n",
       "      <td>2020-03-11 16:48:02.415999889</td>\n",
       "      <td>-0.000153</td>\n",
       "      <td>-0.000137</td>\n",
       "      <td>-0.000197</td>\n",
       "      <td>-0.000112</td>\n",
       "    </tr>\n",
       "    <tr>\n",
       "      <th>4</th>\n",
       "      <td>2020-03-11 16:48:02.420000076</td>\n",
       "      <td>-0.000162</td>\n",
       "      <td>-0.000144</td>\n",
       "      <td>-0.000189</td>\n",
       "      <td>-0.000112</td>\n",
       "    </tr>\n",
       "    <tr>\n",
       "      <th>...</th>\n",
       "      <td>...</td>\n",
       "      <td>...</td>\n",
       "      <td>...</td>\n",
       "      <td>...</td>\n",
       "      <td>...</td>\n",
       "    </tr>\n",
       "    <tr>\n",
       "      <th>179779</th>\n",
       "      <td>2020-03-11 17:00:02.380000114</td>\n",
       "      <td>-0.000158</td>\n",
       "      <td>-0.000143</td>\n",
       "      <td>-0.000188</td>\n",
       "      <td>-0.000156</td>\n",
       "    </tr>\n",
       "    <tr>\n",
       "      <th>179780</th>\n",
       "      <td>2020-03-11 17:00:02.384000063</td>\n",
       "      <td>-0.000156</td>\n",
       "      <td>-0.000142</td>\n",
       "      <td>-0.000182</td>\n",
       "      <td>-0.000154</td>\n",
       "    </tr>\n",
       "    <tr>\n",
       "      <th>179781</th>\n",
       "      <td>2020-03-11 17:00:02.388000011</td>\n",
       "      <td>-0.000154</td>\n",
       "      <td>-0.000140</td>\n",
       "      <td>-0.000181</td>\n",
       "      <td>-0.000158</td>\n",
       "    </tr>\n",
       "    <tr>\n",
       "      <th>179782</th>\n",
       "      <td>2020-03-11 17:00:02.391999960</td>\n",
       "      <td>-0.000158</td>\n",
       "      <td>-0.000142</td>\n",
       "      <td>-0.000180</td>\n",
       "      <td>-0.000168</td>\n",
       "    </tr>\n",
       "    <tr>\n",
       "      <th>179783</th>\n",
       "      <td>2020-03-11 17:00:02.395999908</td>\n",
       "      <td>-0.000163</td>\n",
       "      <td>-0.000148</td>\n",
       "      <td>-0.000191</td>\n",
       "      <td>-0.000166</td>\n",
       "    </tr>\n",
       "  </tbody>\n",
       "</table>\n",
       "<p>179784 rows × 5 columns</p>\n",
       "</div>"
      ],
      "text/plain": [
       "                           timestamp  channel.0  channel.1  channel.2  \\\n",
       "0      2020-03-11 16:48:02.404000044  -0.000158  -0.000144  -0.000199   \n",
       "1      2020-03-11 16:48:02.407999992  -0.000150  -0.000134  -0.000192   \n",
       "2      2020-03-11 16:48:02.411999941  -0.000160  -0.000146  -0.000195   \n",
       "3      2020-03-11 16:48:02.415999889  -0.000153  -0.000137  -0.000197   \n",
       "4      2020-03-11 16:48:02.420000076  -0.000162  -0.000144  -0.000189   \n",
       "...                              ...        ...        ...        ...   \n",
       "179779 2020-03-11 17:00:02.380000114  -0.000158  -0.000143  -0.000188   \n",
       "179780 2020-03-11 17:00:02.384000063  -0.000156  -0.000142  -0.000182   \n",
       "179781 2020-03-11 17:00:02.388000011  -0.000154  -0.000140  -0.000181   \n",
       "179782 2020-03-11 17:00:02.391999960  -0.000158  -0.000142  -0.000180   \n",
       "179783 2020-03-11 17:00:02.395999908  -0.000163  -0.000148  -0.000191   \n",
       "\n",
       "        channel.3  \n",
       "0       -0.000181  \n",
       "1       -0.000157  \n",
       "2       -0.000121  \n",
       "3       -0.000112  \n",
       "4       -0.000112  \n",
       "...           ...  \n",
       "179779  -0.000156  \n",
       "179780  -0.000154  \n",
       "179781  -0.000158  \n",
       "179782  -0.000168  \n",
       "179783  -0.000166  \n",
       "\n",
       "[179784 rows x 5 columns]"
      ]
     },
     "execution_count": 20,
     "metadata": {},
     "output_type": "execute_result"
    }
   ],
   "source": [
    "# read signal from saved csv file\n",
    "\n",
    "neural_time_series = pd.read_csv(save_directory)\n",
    "neural_time_series.timestamp = pd.to_datetime(neural_time_series.timestamp, unit='s')\n",
    "neural_time_series"
   ]
  },
  {
   "cell_type": "code",
   "execution_count": 21,
   "metadata": {
    "ExecuteTime": {
     "end_time": "2020-04-27T23:00:48.504097Z",
     "start_time": "2020-04-27T23:00:47.864536Z"
    }
   },
   "outputs": [
    {
     "data": {
      "text/plain": [
       "Text(0, 0.5, 'Voltage (V)')"
      ]
     },
     "execution_count": 21,
     "metadata": {},
     "output_type": "execute_result"
    },
    {
     "data": {
      "image/png": "[encoded data removed]",
      "text/plain": [
       "<Figure size 1080x360 with 1 Axes>"
      ]
     },
     "metadata": {
      "needs_background": "light"
     },
     "output_type": "display_data"
    }
   ],
   "source": [
    "# plot epoch across all four channels\n",
    "\n",
    "fig, ax = plt.subplots(figsize=(15,5))\n",
    "ax.plot(neural_time_series.timestamp,neural_time_series['channel.0'])\n",
    "ax.plot(neural_time_series.timestamp,neural_time_series['channel.1'])\n",
    "ax.plot(neural_time_series.timestamp,neural_time_series['channel.2'])\n",
    "ax.plot(neural_time_series.timestamp,neural_time_series['channel.3'])\n",
    "plt.title('Raw Time Series')\n",
    "plt.xlabel('Time')\n",
    "plt.ylabel('Voltage (V)')"
   ]
  },
  {
   "cell_type": "markdown",
   "metadata": {},
   "source": [
    "## Summary\n",
    "\n",
    "We pulled information about sensing, stimulation, and adaptive parameters for a single subject. We used these parameters to further filter the data and identify epochs in which all our criteria were met. The user can specify which combination of parameters to filter by. We then demonstrated how to use these time stamps to pull raw time series data to save as a CSV."
   ]
  }
 ],
 "metadata": {
  "kernelspec": {
   "display_name": "Python 3",
   "language": "python",
   "name": "python3"
  },
  "language_info": {
   "codemirror_mode": {
    "name": "ipython",
    "version": 3
   },
   "file_extension": ".py",
   "mimetype": "text/x-python",
   "name": "python",
   "nbconvert_exporter": "python",
   "pygments_lexer": "ipython3",
   "version": "3.8.2"
  },
  "varInspector": {
   "cols": {
    "lenName": 16,
    "lenType": 16,
    "lenVar": 40
   },
   "kernels_config": {
    "python": {
     "delete_cmd_postfix": "",
     "delete_cmd_prefix": "del ",
     "library": "var_list.py",
     "varRefreshCmd": "print(var_dic_list())"
    },
    "r": {
     "delete_cmd_postfix": ") ",
     "delete_cmd_prefix": "rm(",
     "library": "var_list.r",
     "varRefreshCmd": "cat(var_dic_list()) "
    }
   },
   "position": {
    "height": "509.219px",
    "left": "1127.09px",
    "right": "20px",
    "top": "116.979px",
    "width": "356.771px"
   },
   "types_to_exclude": [
    "module",
    "function",
    "builtin_function_or_method",
    "instance",
    "_Feature"
   ],
   "window_display": false
  }
 },
 "nbformat": 4,
 "nbformat_minor": 4
}
