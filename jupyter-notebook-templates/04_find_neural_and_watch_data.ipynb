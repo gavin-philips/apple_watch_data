{
 "cells": [
  {
   "cell_type": "markdown",
   "metadata": {},
   "source": [
    "# Find epochs with concurrent neural and watch data\n",
    "\n",
    "For subjects with paired neural and watch streaming, here is some example code to find both neural and watch data. There are a two ways to check for multimodal data availability:\n",
    "\n",
    "### 1. Using the `availability` expression\n",
    "This method checks for neural and accelerometry data availability with the `availability` expression in their respective endpoints. The user specifies a resolution of interest (per day, per hour, per 10 minutes, etc.), and the API request will output 0's and 1's for data availability per time bin.\n",
    "\n",
    "**Pros**: Can broadly search for data availability across time. Fast if you use low resolution (ie per day)\n",
    "\n",
    "**Cons**: You may need to run multiple API calls looking for availability on different resolutions. Does not yield *exact* time points for start/end of recordings. The finest resolution available is 5 minute bins.\n",
    "\n",
    "### 2. Using the Graph API\n",
    "This method uses the Graph API to get information about neural and watch sessions, from which we can get the start/end times and then check for overlapping times.\n",
    "\n",
    "**Pros**: Exact time points for start/end of neural and accel sessions.\n",
    "\n",
    "**Cons**: Apple Watch 'sessions' are automatically segemented into 15 min epochs, so 1 continuous recording may actually be several sessions (ie 'sessions' on the Apple Watch and RC+S are not the same). The Graph API is not very user friendly.\n"
   ]
  },
  {
   "cell_type": "code",
   "execution_count": 1,
   "metadata": {
    "ExecuteTime": {
     "end_time": "2020-05-08T04:04:56.181834Z",
     "start_time": "2020-05-08T04:04:55.197592Z"
    }
   },
   "outputs": [],
   "source": [
    "import datetime\n",
    "import io\n",
    "import numpy as np\n",
    "import pandas as pd\n",
    "import matplotlib.pyplot as plt\n",
    "from collections import defaultdict\n",
    "from runeq import Config, stream\n",
    "from gql import gql, Client\n",
    "from gql.transport.requests import RequestsHTTPTransport"
   ]
  },
  {
   "cell_type": "markdown",
   "metadata": {
    "ExecuteTime": {
     "end_time": "2020-05-05T23:06:02.559225Z",
     "start_time": "2020-05-05T23:06:02.556246Z"
    }
   },
   "source": [
    "### Functions using the availability expression\n",
    "The functions below at wrapper functions for checking neural and accelerometry data availability."
   ]
  },
  {
   "cell_type": "code",
   "execution_count": 2,
   "metadata": {
    "ExecuteTime": {
     "end_time": "2020-05-08T04:04:57.069867Z",
     "start_time": "2020-05-08T04:04:57.062040Z"
    }
   },
   "outputs": [],
   "source": [
    "def check_neural_data_availability(client, params):\n",
    "    '''\n",
    "    Finds neural data availability within some time frame\n",
    "    Outputs: dataframe with 0's and 1's for data availability at certain timestamps\n",
    "    '''\n",
    "\n",
    "    accessor = client.LFP(expression='availability(lfp)', **params)\n",
    "    \n",
    "    df = pd.DataFrame()\n",
    "    for page in accessor.iter_json_availability():\n",
    "        df_page = pd.DataFrame() \n",
    "        for idx, key in enumerate(page['data'].keys()):      \n",
    "            df_page.insert(idx, key, page['data'][key])\n",
    "        df_page.insert(0, 'time', page['time']) \n",
    "        df = df.append(df_page, ignore_index=True)\n",
    "    \n",
    "    return df\n",
    "        \n",
    "\n",
    "def check_accel_data_availability(client, params):\n",
    "    '''\n",
    "    Finds accel data availability within some time frame\n",
    "    Outputs: dataframe with 0's and 1's for data availability at certain timestamps\n",
    "    '''\n",
    "\n",
    "    accessor = client.Accel(expression='availability(accel)', **params)\n",
    "    \n",
    "    df = pd.DataFrame()\n",
    "    for page in accessor.iter_json_availability():\n",
    "        df = pd.DataFrame(page['availability(accel)']) \n",
    "        df.insert(0, 'time', page['time']) \n",
    "    \n",
    "    return df"
   ]
  },
  {
   "cell_type": "markdown",
   "metadata": {},
   "source": [
    "### Functions for finding data epochs\n",
    "\n",
    "These functions are from the previous notebook `03_advanced_neural_data_selection`."
   ]
  },
  {
   "cell_type": "code",
   "execution_count": 3,
   "metadata": {
    "ExecuteTime": {
     "end_time": "2020-05-08T04:04:57.903601Z",
     "start_time": "2020-05-08T04:04:57.889981Z"
    }
   },
   "outputs": [],
   "source": [
    "def find_epochs(timestamp_series, state_series, state_match):\n",
    "    '''\n",
    "    Returns start/stop time of data epochs based off state changes\n",
    "    For example, we want to find all data epochs in which sampling rate == 250 \n",
    "    Each epoch starts when the first sampling rate event == 250 \n",
    "    Each epoch ends when sampling rate changes to different value\n",
    "    \n",
    "    Input: \n",
    "        time_series - unix time stamps for each state <pd series>\n",
    "        state_series - values for a particular state <pd series>\n",
    "        state_match - desired state value <int, float, or string>\n",
    "    Output: \n",
    "        epochs - list of unix time stamps for epoch start/stop\n",
    "    '''\n",
    "   \n",
    "    # calculate changes in adjacent values to identify state changes\n",
    "    match = pd.DataFrame([1 if x == state_match else 0 for x in state_series])\n",
    "    match['change'] = match.diff()\n",
    "    \n",
    "    # when 'change' is 0, then a current value is identical to the previous value\n",
    "    # an epoch begins when the change value is 1\n",
    "    # an epoch ends when the change value is -1\n",
    "    start_idx = [((np.isnan(x) and y == 1) or x == 1) for x,y in zip(match['change'],match[0])]\n",
    "    stop_idx = [x == -1 for x in match['change']]\n",
    "    \n",
    "    # obtain datetime stamps for the start and stop of all epochs\n",
    "    window_start = timestamp_series[start_idx]\n",
    "    window_stop = timestamp_series[stop_idx]\n",
    "\n",
    "    # if the last epoch has no stop, add the last datetime stamp as the stop\n",
    "    if len(window_start) > len(window_stop):\n",
    "        window_stop.loc[len(window_stop)] = timestamp_series.iloc[-1]\n",
    "        \n",
    "    # make array of start/stop times\n",
    "    epochs = np.array([window_start[:], window_stop[:]]).transpose()\n",
    "\n",
    "    return epochs\n",
    "\n",
    "\n",
    "def find_overlapping_epochs(*conditions):\n",
    "    '''\n",
    "    Return epochs where all conditions are true.\n",
    "\n",
    "    Input:\n",
    "        One or more conditions. Each condition is a list of epochs.\n",
    "        Each epoch is a list/tuple with 2 elements: the start and\n",
    "        end time of a time interval where the condition was true.\n",
    "\n",
    "    Output:\n",
    "        A list of tuples, where each tuple represents the start and\n",
    "        end time of an epoch where all the conditions are true\n",
    "    '''\n",
    "\n",
    "    # Compile a set of all the timestamps (the start times AND\n",
    "    # end times of any of our conditions).\n",
    "    times = set()\n",
    "\n",
    "    # Also create a dictionary that summarizes the overall change at\n",
    "    # each timestamp: the net number of conditions that \"turn on\" (or\n",
    "    # \"become\" true).\n",
    "    change_at_time = defaultdict(int)\n",
    "\n",
    "    for condition in conditions:\n",
    "        for epoch in condition:\n",
    "            start, end = epoch\n",
    "            times.add(start)\n",
    "            times.add(end)\n",
    "            # When a condition starts, the change at time t is positive\n",
    "            change_at_time[start] += 1\n",
    "            # When a condition ends, the change at time t is negative\n",
    "            change_at_time[end] -= 1\n",
    "\n",
    "    results = []\n",
    "\n",
    "    # Now go through the timestamps *in order*, and keep track of\n",
    "    # the cumulative sum of change_at_time:\n",
    "    num_on = 0\n",
    "\n",
    "    num_conditions = len(conditions)\n",
    "\n",
    "    # When we find a timestamp where all of the conditions are true\n",
    "    # (i.e. cumulative sum = num_conditions), we'll keep track of the\n",
    "    # start time:\n",
    "    current_epoch_start = None\n",
    "\n",
    "    for time in sorted(times):\n",
    "        num_on += change_at_time[time]\n",
    "        if num_on == num_conditions and current_epoch_start == None:\n",
    "            current_epoch_start = time\n",
    "\n",
    "        if num_on != num_conditions and current_epoch_start != None:\n",
    "            results.append((current_epoch_start, time))\n",
    "            current_epoch_start = None\n",
    "\n",
    "    if not results:\n",
    "        print('No epochs matching all criteria')\n",
    "\n",
    "    return results\n",
    "\n",
    "\n",
    "def plot_epochs(condition_names, *conditions):\n",
    "    '''\n",
    "    Plots one or more conditions and the times in which those conditions were met\n",
    "\n",
    "    Input:\n",
    "        List of condition names and list of start/end times for epochs matching each condition\n",
    "    '''\n",
    "\n",
    "    num_conditions = len(conditions)\n",
    "\n",
    "    fig, ax = plt.subplots(figsize=(12, 5))\n",
    "\n",
    "    for idx, condition in enumerate(conditions):\n",
    "        for epoch in condition:\n",
    "            ax.plot([datetime.datetime.fromtimestamp(epoch[0]), datetime.datetime.fromtimestamp(epoch[1])], [idx, idx],\n",
    "                    linewidth=25)\n",
    "\n",
    "    plt.xticks(rotation=90)\n",
    "    plt.yticks(np.arange(num_conditions), condition_names)\n",
    "    plt.tight_layout()\n",
    "    plt.xlabel('Time')\n",
    "    plt.ylabel('Filter Criteria')\n",
    "    plt.title('Data Availability')"
   ]
  },
  {
   "cell_type": "markdown",
   "metadata": {},
   "source": [
    "Be sure to obtain the credentials for the RC+S in addition to the Apple Watch, and to use the appropriate device_id when checking for neural/accel data availability. "
   ]
  },
  {
   "cell_type": "markdown",
   "metadata": {},
   "source": [
    "## 1. Using the `availability` expression"
   ]
  },
  {
   "cell_type": "code",
   "execution_count": 4,
   "metadata": {
    "ExecuteTime": {
     "end_time": "2020-05-08T04:04:59.103070Z",
     "start_time": "2020-05-08T04:04:59.097599Z"
    }
   },
   "outputs": [],
   "source": [
    "# set up client\n",
    "\n",
    "cfg = Config('/Users/witney/Documents/api_config/adbs05_config.yaml')\n",
    "client = stream.V1Client(cfg)"
   ]
  },
  {
   "cell_type": "markdown",
   "metadata": {},
   "source": [
    "### Example 1\n",
    "\n",
    "In a single patient, we will check for data availability on a daily basis for the month of March 2020."
   ]
  },
  {
   "cell_type": "code",
   "execution_count": 5,
   "metadata": {
    "ExecuteTime": {
     "end_time": "2020-05-08T04:05:00.402806Z",
     "start_time": "2020-05-08T04:05:00.398985Z"
    }
   },
   "outputs": [],
   "source": [
    "# initialize neural availability parameters\n",
    "\n",
    "neural_params = {\n",
    "    'device_id': 'c0Cg11Ub',\n",
    "    'start_time': datetime.datetime(2020,3,1).timestamp(),     # unix time stamp\n",
    "    'end_time': datetime.datetime(2020,4,1).timestamp(),       # unix time stamp\n",
    "    'channels': '0,1,2,3',\n",
    "    'resolution': 60 * 60 * 24,                                # time in sec\n",
    "    'timestamp': 'unix'\n",
    "}"
   ]
  },
  {
   "cell_type": "code",
   "execution_count": 6,
   "metadata": {
    "ExecuteTime": {
     "end_time": "2020-05-08T04:05:00.951404Z",
     "start_time": "2020-05-08T04:05:00.947458Z"
    }
   },
   "outputs": [],
   "source": [
    "# initialize accel availability parameters\n",
    "\n",
    "accel_params = {\n",
    "    'device_id': '6*yEoMb2',\n",
    "    'start_time': datetime.datetime(2020,3,1).timestamp(),     # unix time stamp\n",
    "    'end_time': datetime.datetime(2020,4,1).timestamp(),       # unix time stamp\n",
    "    'resolution': 60 * 60 * 24,                                # time in sec   \n",
    "    'timestamp': 'unix'\n",
    "}"
   ]
  },
  {
   "cell_type": "code",
   "execution_count": 7,
   "metadata": {
    "ExecuteTime": {
     "end_time": "2020-05-08T04:05:02.345997Z",
     "start_time": "2020-05-08T04:05:01.454444Z"
    }
   },
   "outputs": [],
   "source": [
    "# check data availability with daily resolution\n",
    "\n",
    "neural_data_avail_daily = check_neural_data_availability(client, neural_params)\n",
    "accel_data_avail_daily = check_accel_data_availability(client, accel_params)"
   ]
  },
  {
   "cell_type": "code",
   "execution_count": 8,
   "metadata": {
    "ExecuteTime": {
     "end_time": "2020-05-08T04:05:02.435020Z",
     "start_time": "2020-05-08T04:05:02.431506Z"
    }
   },
   "outputs": [],
   "source": [
    "# days with both accel + neural\n",
    "\n",
    "all_avail_daily = neural_data_avail_daily.time[(neural_data_avail_daily['channel.0'] == 1) & (accel_data_avail_daily[0] ==1)]"
   ]
  },
  {
   "cell_type": "code",
   "execution_count": 9,
   "metadata": {
    "ExecuteTime": {
     "end_time": "2020-05-08T04:05:02.521078Z",
     "start_time": "2020-05-08T04:05:02.514638Z"
    }
   },
   "outputs": [
    {
     "data": {
      "text/plain": [
       "4    2020-03-05\n",
       "5    2020-03-06\n",
       "6    2020-03-07\n",
       "7    2020-03-08\n",
       "8    2020-03-09\n",
       "9    2020-03-10\n",
       "10   2020-03-11\n",
       "11   2020-03-12\n",
       "12   2020-03-13\n",
       "13   2020-03-14\n",
       "14   2020-03-15\n",
       "15   2020-03-16\n",
       "17   2020-03-18\n",
       "18   2020-03-19\n",
       "19   2020-03-20\n",
       "20   2020-03-21\n",
       "21   2020-03-22\n",
       "22   2020-03-23\n",
       "23   2020-03-24\n",
       "24   2020-03-25\n",
       "26   2020-03-27\n",
       "27   2020-03-28\n",
       "28   2020-03-29\n",
       "29   2020-03-30\n",
       "Name: time, dtype: datetime64[ns]"
      ]
     },
     "execution_count": 9,
     "metadata": {},
     "output_type": "execute_result"
    }
   ],
   "source": [
    "# print days with both channel 0 and accel recordings\n",
    "\n",
    "pd.to_datetime(all_avail_daily, unit='s')"
   ]
  },
  {
   "cell_type": "markdown",
   "metadata": {},
   "source": [
    "### Example 2\n",
    "\n",
    "Next, we will check data availability with a higher resolution (every 10 minutes) in the same time frame."
   ]
  },
  {
   "cell_type": "code",
   "execution_count": 10,
   "metadata": {
    "ExecuteTime": {
     "end_time": "2020-05-08T04:05:25.768397Z",
     "start_time": "2020-05-08T04:05:04.718966Z"
    }
   },
   "outputs": [],
   "source": [
    "neural_data_avail_fine_res = pd.DataFrame()\n",
    "accel_data_avail_fine_res = pd.DataFrame()\n",
    "\n",
    "# loop through all the days in our time range and check for data per 10 min bin\n",
    "for start_day in all_avail_daily:\n",
    "    start_time = start_day\n",
    "    end_time = start_day + 60*60*24\n",
    "    neural_params = {\n",
    "        'device_id': 'c0Cg11Ub',\n",
    "        'start_time': datetime.datetime(2020,3,1).timestamp(),\n",
    "        'end_time': datetime.datetime(2020,4,1).timestamp(),\n",
    "        'channels': '0,1,2,3',\n",
    "        'resolution': 60*10,\n",
    "        'timestamp': 'unix'\n",
    "    }\n",
    "    accel_params = {\n",
    "        'device_id': '6*yEoMb2',\n",
    "        'start_time': datetime.datetime(2020,3,1).timestamp(),\n",
    "        'end_time': datetime.datetime(2020,4,1).timestamp(),\n",
    "        'resolution': 60*10,    \n",
    "        'timestamp': 'unix'\n",
    "    }\n",
    "    neural_day = check_neural_data_availability(client, neural_params)\n",
    "    neural_data_avail_fine_res = neural_data_avail_fine_res.append(neural_day)\n",
    "    accel_day = check_accel_data_availability(client, accel_params)\n",
    "    accel_data_avail_fine_res = accel_data_avail_fine_res.append(accel_day)"
   ]
  },
  {
   "cell_type": "code",
   "execution_count": 11,
   "metadata": {
    "ExecuteTime": {
     "end_time": "2020-05-08T04:05:37.169526Z",
     "start_time": "2020-05-08T04:05:36.693908Z"
    }
   },
   "outputs": [],
   "source": [
    "# find overlapping epochs from the timestamps\n",
    "\n",
    "# timestamps with both neural + accel data\n",
    "neural_and_accel_time = neural_data_avail_fine_res.time[(neural_data_avail_fine_res['channel.0'] == 1) & (accel_data_avail_fine_res[0] ==1)]\n",
    "\n",
    "# set up dataframe for find_epochs\n",
    "epochs_neural_and_accel = pd.DataFrame()\n",
    "epochs_neural_and_accel['time'] = neural_data_avail_fine_res.time\n",
    "epochs_neural_and_accel['state'] = np.zeros(len(epochs_neural_and_accel))\n",
    "for idx in np.arange(len(neural_and_accel_time)):\n",
    "    epochs_neural_and_accel.at[neural_and_accel_time.index[idx],'state'] = 1\n",
    "   \n",
    "# epochs with neural + accel data\n",
    "epochs_neural_and_accel = find_epochs(epochs_neural_and_accel.time, epochs_neural_and_accel.state, 1)"
   ]
  },
  {
   "cell_type": "code",
   "execution_count": 12,
   "metadata": {
    "ExecuteTime": {
     "end_time": "2020-05-08T04:05:39.107182Z",
     "start_time": "2020-05-08T04:05:38.652773Z"
    }
   },
   "outputs": [],
   "source": [
    "# find individual epochs\n",
    "\n",
    "epochs_neural = find_epochs(\n",
    "    neural_data_avail_fine_res.time, \n",
    "    neural_data_avail_fine_res['channel.0'], \n",
    "    1\n",
    ")\n",
    "epochs_accel = find_epochs(\n",
    "    accel_data_avail_fine_res.time, \n",
    "    accel_data_avail_fine_res[0], \n",
    "    1\n",
    ")"
   ]
  },
  {
   "cell_type": "code",
   "execution_count": 13,
   "metadata": {
    "ExecuteTime": {
     "end_time": "2020-05-08T04:05:44.542642Z",
     "start_time": "2020-05-08T04:05:40.342724Z"
    },
    "scrolled": false
   },
   "outputs": [
    {
     "data": {
      "image/png": "[encoded data removed]",
      "text/plain": [
       "<Figure size 864x360 with 1 Axes>"
      ]
     },
     "metadata": {
      "needs_background": "light"
     },
     "output_type": "display_data"
    }
   ],
   "source": [
    "# plot data availability\n",
    "\n",
    "plot_epochs(\n",
    "    [\n",
    "        'neural',\n",
    "        'accel',\n",
    "        'neural+accel'\n",
    "    ], \n",
    "    epochs_neural, \n",
    "    epochs_accel, \n",
    "    epochs_neural_and_accel\n",
    ")"
   ]
  },
  {
   "cell_type": "markdown",
   "metadata": {},
   "source": [
    "To obtain the raw neural time series and accelerometry data, we can then loop through the `epochs` variable and use `get_neural_time_series` and `get_accel` from the previous notebooks `01_download_neural_data` and `02_download_watch_data`, respectively.\n",
    "\n",
    "Other uses of the `availability` expression:\n",
    "- Find bilateral data (run `check_neural_data_availability` for each hemisphere)\n",
    "- After filtering for meta data and obtaining a list of epochs of neural data, loop through epochs and check accel availability "
   ]
  },
  {
   "cell_type": "markdown",
   "metadata": {},
   "source": [
    "## 2. Using the Graph API\n",
    "\n",
    "The Graph API returns information about sessions, including start/end time of each session. We can obtain all session data within a certain time frame, and then cross check for overlap between neural and accel sessions. Note that the Graph API is more complicated to use and it is not supported by our Python package `runeq`.\n",
    "\n",
    "We will use the same API credentials as before, but we will need to explicitly initialize them here. We do not need to specify device ID's, as the API will return sessions for all devices. `patient_id` can be found in the web app url's. The patient_id is what follows  `https://app.runelabs.io/patients/...` when you have selected that patient."
   ]
  },
  {
   "cell_type": "code",
   "execution_count": 14,
   "metadata": {
    "ExecuteTime": {
     "end_time": "2020-05-08T04:05:47.632744Z",
     "start_time": "2020-05-08T04:05:47.628670Z"
    }
   },
   "outputs": [],
   "source": [
    "key_id = cfg.auth_headers['X-Rune-Client-Key-ID']\n",
    "key_secret = cfg.auth_headers['X-Rune-Client-Access-Key']\n",
    "patient_id = 'd629537621de441d8b713037bff1e8fd'\n",
    "start_time = datetime.datetime(2020,3,1).timestamp()     \n",
    "end_time = datetime.datetime(2020,4,1).timestamp()      "
   ]
  },
  {
   "cell_type": "code",
   "execution_count": 15,
   "metadata": {
    "ExecuteTime": {
     "end_time": "2020-05-08T04:05:52.805792Z",
     "start_time": "2020-05-08T04:05:48.004458Z"
    }
   },
   "outputs": [],
   "source": [
    "# Graph API request for sessions data within our time range\n",
    "\n",
    "transport = RequestsHTTPTransport(\n",
    "    url='https://graph.runelabs.io/graphql',\n",
    "    use_json=True,\n",
    "    headers={\n",
    "        'Content-Type': \"application/json\",\n",
    "        'X-Rune-Client-Key-Id': key_id,\n",
    "        'X-Rune-Client-Access-Key': key_secret,\n",
    "    }\n",
    ")\n",
    "\n",
    "gql_client = Client(\n",
    "    retries=3,\n",
    "    transport=transport,\n",
    "    fetch_schema_from_transport=True,\n",
    ")\n",
    "\n",
    "resp = gql_client.execute(\n",
    "    gql('''\n",
    "        query ($patientId: ID!, $startTime: Float!, $endTime: Float!) {\n",
    "            dataSessions(\n",
    "                patientId: $patientId,\n",
    "                startTime: $startTime,\n",
    "                endTime: $endTime\n",
    "            ) {\n",
    "                id\n",
    "                createdAt\n",
    "                device {\n",
    "                    id\n",
    "                    alias\n",
    "                    deviceType {\n",
    "                        id\n",
    "                    }\n",
    "                }\n",
    "                deviceSessionId\n",
    "                endTime\n",
    "                startTime\n",
    "                streams {\n",
    "                    streamName\n",
    "                }\n",
    "            }\n",
    "        }\n",
    "    '''),\n",
    "    variable_values={\n",
    "        \"patientId\": patient_id,\n",
    "        \"startTime\": start_time,\n",
    "        \"endTime\": end_time\n",
    "    }\n",
    ")"
   ]
  },
  {
   "cell_type": "markdown",
   "metadata": {},
   "source": [
    "Next, we'll obtain a list of neural and accelerometry session start/end times."
   ]
  },
  {
   "cell_type": "code",
   "execution_count": 16,
   "metadata": {
    "ExecuteTime": {
     "end_time": "2020-05-08T04:05:52.970827Z",
     "start_time": "2020-05-08T04:05:52.967401Z"
    }
   },
   "outputs": [],
   "source": [
    "# get session start/end times for watch and rcs\n",
    "\n",
    "epochs_neural = []\n",
    "epochs_accel = []\n",
    "\n",
    "for session in resp['dataSessions']:\n",
    "    if session['device']['deviceType']['id']=='RC+S':\n",
    "        epochs_neural.append([session['startTime'], session['endTime']])\n",
    "    elif session['device']['deviceType']['id']=='Apple Watch':\n",
    "        epochs_accel.append([session['startTime'], session['endTime']])"
   ]
  },
  {
   "cell_type": "code",
   "execution_count": 17,
   "metadata": {
    "ExecuteTime": {
     "end_time": "2020-05-08T04:05:53.129293Z",
     "start_time": "2020-05-08T04:05:53.126680Z"
    }
   },
   "outputs": [],
   "source": [
    "# find overlap in epochs\n",
    "\n",
    "epochs_neural_and_accel = find_overlapping_epochs(\n",
    "    epochs_accel, \n",
    "    epochs_neural\n",
    ")"
   ]
  },
  {
   "cell_type": "code",
   "execution_count": 18,
   "metadata": {
    "ExecuteTime": {
     "end_time": "2020-05-08T04:05:53.858399Z",
     "start_time": "2020-05-08T04:05:53.279082Z"
    }
   },
   "outputs": [
    {
     "data": {
      "image/png": "[encoded data removed]",
      "text/plain": [
       "<Figure size 864x360 with 1 Axes>"
      ]
     },
     "metadata": {
      "needs_background": "light"
     },
     "output_type": "display_data"
    }
   ],
   "source": [
    "# plot epochs\n",
    "\n",
    "plot_epochs(\n",
    "    [\n",
    "        'neural',\n",
    "        'accel',\n",
    "        'neural+accel'\n",
    "    ], \n",
    "    epochs_neural, \n",
    "    epochs_accel, \n",
    "    epochs_neural_and_accel\n",
    ")"
   ]
  },
  {
   "cell_type": "markdown",
   "metadata": {},
   "source": [
    "In this plot, the data looks more sparse than it did in the previous plot using the `availability` expression. The `availability` expression returns a 1 for every time bin in which there is data found. Even if there is only 1 second of data, it will return a 1. Therefore, data can look more abundunt if you use a longer time resolution."
   ]
  },
  {
   "cell_type": "markdown",
   "metadata": {},
   "source": [
    "## Summary\n",
    "\n",
    "Using two different methods, we checked for concurrent neural and watch data. Which method to use is dependent on the desired time resolution for data availability and post-processing workflows to define an epoch."
   ]
  }
 ],
 "metadata": {
  "kernelspec": {
   "display_name": "Python 3",
   "language": "python",
   "name": "python3"
  },
  "language_info": {
   "codemirror_mode": {
    "name": "ipython",
    "version": 3
   },
   "file_extension": ".py",
   "mimetype": "text/x-python",
   "name": "python",
   "nbconvert_exporter": "python",
   "pygments_lexer": "ipython3",
   "version": "3.8.2"
  },
  "varInspector": {
   "cols": {
    "lenName": 16,
    "lenType": 16,
    "lenVar": 40
   },
   "kernels_config": {
    "python": {
     "delete_cmd_postfix": "",
     "delete_cmd_prefix": "del ",
     "library": "var_list.py",
     "varRefreshCmd": "print(var_dic_list())"
    },
    "r": {
     "delete_cmd_postfix": ") ",
     "delete_cmd_prefix": "rm(",
     "library": "var_list.r",
     "varRefreshCmd": "cat(var_dic_list()) "
    }
   },
   "types_to_exclude": [
    "module",
    "function",
    "builtin_function_or_method",
    "instance",
    "_Feature"
   ],
   "window_display": false
  }
 },
 "nbformat": 4,
 "nbformat_minor": 4
}
