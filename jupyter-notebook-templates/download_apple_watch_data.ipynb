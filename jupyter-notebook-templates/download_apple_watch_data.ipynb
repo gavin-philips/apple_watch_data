{
 "cells": [
  {
   "cell_type": "markdown",
   "metadata": {},
   "source": [
    "# Download Apple Watch Data\n",
    "\n",
    "Example for how to download accelerometry, rotation, tremor, and dyskinesia from Apple Watch."
   ]
  },
  {
   "cell_type": "code",
   "execution_count": 1,
   "metadata": {
    "ExecuteTime": {
     "end_time": "2020-09-30T18:25:12.767262Z",
     "start_time": "2020-09-30T18:25:12.763940Z"
    }
   },
   "outputs": [],
   "source": [
    "import io\n",
    "import os\n",
    "import pandas as pd\n",
    "import matplotlib.pyplot as plt\n",
    "import datetime\n",
    "from runeq import Config, stream"
   ]
  },
  {
   "cell_type": "code",
   "execution_count": 2,
   "metadata": {
    "ExecuteTime": {
     "end_time": "2020-09-30T18:12:04.296761Z",
     "start_time": "2020-09-30T18:12:04.287798Z"
    }
   },
   "outputs": [],
   "source": [
    "def make_full_df(accessor):\n",
    "    \"\"\"Loop through pages of API calls and append to a single dataframe\"\"\"\n",
    "\n",
    "    df = pd.DataFrame()\n",
    "    for page in accessor.iter_csv_text():\n",
    "        page_df = pd.read_csv(io.StringIO(page))\n",
    "        df = df.append(page_df, ignore_index=True)\n",
    "\n",
    "    return df\n",
    "\n",
    "\n",
    "def get_accel(client, params, save_filepath):\n",
    "    \"\"\"Makes API calls for accel data, saves to CSV and outputs dataframe\"\"\"\n",
    "\n",
    "    accessor = client.Accel(**params)\n",
    "    df = make_full_df(accessor)\n",
    "    df.to_csv(save_filepath, index=False)\n",
    "\n",
    "    return df\n",
    "\n",
    "\n",
    "def get_rotation(client, params, save_filepath):\n",
    "    \"\"\"Makes API calls for rotation data, saves to CSV and outputs dataframe\"\"\"\n",
    "\n",
    "    accessor = client.Rotation(**params)\n",
    "    df = make_full_df(accessor)\n",
    "    df.to_csv(save_filepath, index=False)\n",
    "\n",
    "    return df\n",
    "\n",
    "\n",
    "def get_tremor(client, params, save_filepath):\n",
    "    \"\"\"Makes API calls for tremor data, saves to CSV and outputs dataframe\"\"\"\n",
    "\n",
    "    accessor = client.ProbabilitySymptom(\n",
    "        symptom='tremor',\n",
    "        severity='*',\n",
    "        **params\n",
    "    )\n",
    "    df = make_full_df(accessor)\n",
    "    df.to_csv(save_filepath, index=False)\n",
    "\n",
    "    return df\n",
    "\n",
    "\n",
    "def get_dyskinesia(client, params, save_filepath):\n",
    "    \"\"\"\n",
    "    Makes API calls for dyskinesia data, saves to CSV and outputs\n",
    "    dataframe\n",
    "    \"\"\"\n",
    "\n",
    "    accessor = client.ProbabilitySymptom(\n",
    "        symptom='dyskinesia',\n",
    "        **params\n",
    "    )\n",
    "    df = make_full_df(accessor)\n",
    "    df.to_csv(save_filepath, index=False)\n",
    "\n",
    "    return df"
   ]
  },
  {
   "cell_type": "code",
   "execution_count": 3,
   "metadata": {
    "ExecuteTime": {
     "end_time": "2020-09-30T18:12:06.010863Z",
     "start_time": "2020-09-30T18:12:06.004731Z"
    }
   },
   "outputs": [],
   "source": [
    "# set up client\n",
    "\n",
    "cfg = Config()\n",
    "client = stream.V1Client(cfg)"
   ]
  },
  {
   "cell_type": "markdown",
   "metadata": {},
   "source": [
    "Times of interest:\n",
    "\n",
    "**RCS02**\n",
    "* Open Loop:\n",
    "Left: 5/26/20-5/30/20\n",
    "* Closed Loop:\n",
    "Left: 6/10/20-6/15/20\n",
    "\n",
    "**RCS05**:\n",
    "* Left: 6/16/20 - 6/20/20\n",
    "* Right: 6/16/20, 6/18/20, 6/19/20\n",
    "\n",
    "**RCS06**:\n",
    "* Open Loop:\n",
    "Both sides: 6/4/20-6/5/20\n",
    "* Closed Loop:\n",
    "Left: 6/15\n",
    "\n",
    "**RCS07**:\n",
    "* Both: 6/23/20-6/27/20\n",
    "\n",
    "**RCS08**:\n",
    "* Both: 6/23/20-6/27/20\n",
    "\n",
    "\n",
    "**+ Everything from this week (week of Sept 20) from**: \n",
    "RCS02, RCS05, RCS07, RCS08 "
   ]
  },
  {
   "cell_type": "code",
   "execution_count": 4,
   "metadata": {
    "ExecuteTime": {
     "end_time": "2020-09-30T18:25:05.160850Z",
     "start_time": "2020-09-30T18:25:05.150951Z"
    }
   },
   "outputs": [],
   "source": [
    "# specify patient ids and device ids\n",
    "\n",
    "subjects = [\n",
    "    # 'rcs02',\n",
    "    # 'rcs05',\n",
    "    # 'rcs06',\n",
    "    # 'rcs07',\n",
    "    'rcs08'\n",
    "]\n",
    "\n",
    "patient_ids = {\n",
    "    # 'rcs02': 'RCS02',\n",
    "    # 'rcs05': 'RCS05',\n",
    "    # 'rcs06': 'rcs06',\n",
    "    # 'rcs07': 'rcs07',\n",
    "    'rcs08': 'ee8ad14f051f4ff0bccab5c98171067f'\n",
    "}\n",
    "\n",
    "L_device_ids = {\n",
    "    # 'rcs02': 'S9Nj2M1Q',\n",
    "    # 'rcs05': 'fkFVvXvO',\n",
    "    # 'rcs06': 'CWTFFG3f',\n",
    "    # 'rcs07': '0Z48CCdv',\n",
    "    'rcs08': 'WJzJ4*NA'\n",
    "}\n",
    "\n",
    "R_device_ids = {\n",
    "    # 'rcs02': 'KrCk6N6q',\n",
    "    # 'rcs05': 'yFZe7BQZ',\n",
    "    # 'rcs06': 'EK5cDAZ1',\n",
    "    # 'rcs07': 'RElEtNme',\n",
    "    'rcs08': 'fMQ45ejQ'\n",
    "}"
   ]
  },
  {
   "cell_type": "markdown",
   "metadata": {},
   "source": [
    "Here's an example for how you would set up parameters for the L side for all subjects, for the last week.\n",
    "\n",
    "For the other dates of interest, you can set up another dictionary with patient/side-specific date ranges, and introduce additional loops."
   ]
  },
  {
   "cell_type": "code",
   "execution_count": 5,
   "metadata": {
    "ExecuteTime": {
     "end_time": "2020-09-30T18:26:44.851239Z",
     "start_time": "2020-09-30T18:26:44.846746Z"
    }
   },
   "outputs": [],
   "source": [
    "# set L parameters for week of Sept 20\n",
    "\n",
    "L_params = {}\n",
    "\n",
    "for subject in subjects:\n",
    "    L_params[subject] = {\n",
    "        'patient_id': patient_ids[subject],\n",
    "        'device_id': L_device_ids[subject],\n",
    "        'start_time': datetime.datetime(2020, 10, 7).timestamp(),\n",
    "        'end_time': datetime.datetime(2020, 10, 11).timestamp(),\n",
    "        'timestamp': 'datetime'\n",
    "    }"
   ]
  },
  {
   "cell_type": "code",
   "execution_count": 6,
   "metadata": {
    "ExecuteTime": {
     "end_time": "2020-09-30T18:26:23.789985Z",
     "start_time": "2020-09-30T18:26:23.787100Z"
    }
   },
   "outputs": [],
   "source": [
    "# specify base path for saving data\n",
    "\n",
    "BASE_PATH = '/Users/roee/Downloads/watch'"
   ]
  },
  {
   "cell_type": "code",
   "execution_count": 7,
   "metadata": {
    "ExecuteTime": {
     "end_time": "2020-09-30T18:29:24.972746Z",
     "start_time": "2020-09-30T18:29:07.814713Z"
    }
   },
   "outputs": [],
   "source": [
    "# download data\n",
    "\n",
    "for subject in subjects:\n",
    "    accel = get_accel(\n",
    "        client,\n",
    "        L_params[subject],\n",
    "        os.path.join(BASE_PATH, 'ex_accel.csv')\n",
    "        subject + '_accel'\n",
    "    )\n",
    "    rotation = get_rotation(\n",
    "        client,\n",
    "        L_params[subject],\n",
    "        os.path.join(BASE_PATH, 'ex_rotation.csv')\n",
    "    )\n",
    "    tremor = get_tremor(\n",
    "        client,\n",
    "        L_params[subject],\n",
    "        os.path.join(BASE_PATH, 'ex_tremor.csv')\n",
    "    )\n",
    "    dyskinesia = get_dyskinesia(\n",
    "        client,\n",
    "        L_params[subject],\n",
    "        os.path.join(BASE_PATH, 'ex_dyskinesia.csv')\n",
    "    )"
   ]
  },
  {
   "cell_type": "code",
   "execution_count": 8,
   "outputs": [
    {
     "ename": "SyntaxError",
     "evalue": "invalid syntax (<ipython-input-8-a731ee568ce6>, line 2)",
     "output_type": "error",
     "traceback": [
      "\u001B[0;36m  File \u001B[0;32m\"<ipython-input-8-a731ee568ce6>\"\u001B[0;36m, line \u001B[0;32m2\u001B[0m\n\u001B[0;31m    pip show runeq\u001B[0m\n\u001B[0m        ^\u001B[0m\n\u001B[0;31mSyntaxError\u001B[0m\u001B[0;31m:\u001B[0m invalid syntax\n"
     ]
    }
   ],
   "source": [],
   "metadata": {
    "collapsed": false,
    "pycharm": {
     "name": "#%%\n"
    }
   }
  },
  {
   "cell_type": "markdown",
   "metadata": {},
   "source": [
    "\n",
    "The way the functions are written, they currently save single queries into one CSV. For particularly large queries, you may want to save separate pages of the request into separate CSV's (instead of `df.append`, write the page into a file)."
   ]
  }
 ],
 "metadata": {
  "kernelspec": {
   "display_name": "Python 3",
   "language": "python",
   "name": "python3"
  },
  "language_info": {
   "codemirror_mode": {
    "name": "ipython",
    "version": 3
   },
   "file_extension": ".py",
   "mimetype": "text/x-python",
   "name": "python",
   "nbconvert_exporter": "python",
   "pygments_lexer": "ipython3",
   "version": "3.7.6"
  },
  "varInspector": {
   "cols": {
    "lenName": 16,
    "lenType": 16,
    "lenVar": 40
   },
   "kernels_config": {
    "python": {
     "delete_cmd_postfix": "",
     "delete_cmd_prefix": "del ",
     "library": "var_list.py",
     "varRefreshCmd": "print(var_dic_list())"
    },
    "r": {
     "delete_cmd_postfix": ") ",
     "delete_cmd_prefix": "rm(",
     "library": "var_list.r",
     "varRefreshCmd": "cat(var_dic_list()) "
    }
   },
   "types_to_exclude": [
    "module",
    "function",
    "builtin_function_or_method",
    "instance",
    "_Feature"
   ],
   "window_display": false
  }
 },
 "nbformat": 4,
 "nbformat_minor": 4
}