{
 "cells": [
  {
   "cell_type": "markdown",
   "metadata": {},
   "source": [
    "# Download Apple Watch Data\n",
    "\n",
    "Example for how to download accelerometry, rotation, tremor, and dyskinesia from Apple Watch."
   ]
  },
  {
   "cell_type": "code",
   "execution_count": 1,
   "metadata": {
    "ExecuteTime": {
     "end_time": "2020-09-30T18:25:12.767262Z",
     "start_time": "2020-09-30T18:25:12.763940Z"
    }
   },
   "outputs": [],
   "source": [
    "import io\n",
    "import os\n",
    "import pandas as pd\n",
    "import matplotlib.pyplot as plt\n",
    "import datetime\n",
    "from runeq import Config, stream"
   ]
  },
  {
   "cell_type": "code",
   "execution_count": 2,
   "metadata": {
    "ExecuteTime": {
     "end_time": "2020-09-30T18:12:04.296761Z",
     "start_time": "2020-09-30T18:12:04.287798Z"
    }
   },
   "outputs": [],
   "source": [
    "def make_full_df(accessor):\n",
    "    \"\"\"Loop through pages of API calls and append to a single dataframe\"\"\"\n",
    "\n",
    "    df = pd.DataFrame()\n",
    "    for page in accessor.iter_csv_text():\n",
    "        page_df = pd.read_csv(io.StringIO(page))\n",
    "        df = df.append(page_df, ignore_index=True)\n",
    "\n",
    "    return df\n",
    "\n",
    "\n",
    "def get_accel(client, params, save_filepath):\n",
    "    \"\"\"Makes API calls for accel data, saves to CSV and outputs dataframe\"\"\"\n",
    "\n",
    "    accessor = client.Accel(**params)\n",
    "    df = make_full_df(accessor)\n",
    "    df.to_csv(save_filepath, index=False)\n",
    "\n",
    "    return df\n",
    "\n",
    "\n",
    "def get_rotation(client, params, save_filepath):\n",
    "    \"\"\"Makes API calls for rotation data, saves to CSV and outputs dataframe\"\"\"\n",
    "\n",
    "    accessor = client.Rotation(**params)\n",
    "    df = make_full_df(accessor)\n",
    "    df.to_csv(save_filepath, index=False)\n",
    "\n",
    "    return df\n",
    "\n",
    "\n",
    "def get_tremor(client, params, save_filepath):\n",
    "    \"\"\"Makes API calls for tremor data, saves to CSV and outputs dataframe\"\"\"\n",
    "\n",
    "    accessor = client.ProbabilitySymptom(\n",
    "        symptom='tremor',\n",
    "        severity='*',\n",
    "        **params\n",
    "    )\n",
    "    df = make_full_df(accessor)\n",
    "    df.to_csv(save_filepath, index=False)\n",
    "\n",
    "    return df\n",
    "\n",
    "\n",
    "def get_dyskinesia(client, params, save_filepath):\n",
    "    \"\"\"\n",
    "    Makes API calls for dyskinesia data, saves to CSV and outputs\n",
    "    dataframe\n",
    "    \"\"\"\n",
    "\n",
    "    accessor = client.ProbabilitySymptom(\n",
    "        symptom='dyskinesia',\n",
    "        **params\n",
    "    )\n",
    "    df = make_full_df(accessor)\n",
    "    df.to_csv(save_filepath, index=False)\n",
    "\n",
    "    return df"
   ]
  },
  {
   "cell_type": "code",
   "execution_count": null,
   "metadata": {},
   "outputs": [],
   "source": [
    "# Define a function here to download all desired data by days...\n",
    "#  It should slice up the timestamps into days and call the get\n",
    "#  function for each desired data stream.\n",
    "\n",
    "#get_data_by_days(\n",
    "#    client,\n",
    "#    params,\n",
    "#    BASE_PATH,\n",
    "#    base_filename\n",
    "#)\n",
    "\n",
    "def get_data_by_days():\n",
    "    # code\n",
    "    \n",
    "    return None\n",
    "\n",
    "        # In the function, slice the window into days,\n",
    "        #  build the base filename from these components for each day,\n",
    "        #  download the day's data and store it using the filename\n",
    "        #  Also, print progress updates. Maybe give arg option to turn off.\n",
    "        \n",
    "        # Example of desired file name from Ro'ee:\n",
    "        # RCS02L_2020_10_01_acc_.csv\n",
    "        \n",
    "        # Note, if the dates are inclusive (i.e., through the second date),\n",
    "        #  use the date afterward, as it is the first timestamp on that date.\n",
    "        #  But this would only work if no hour/minute values are being used...\n",
    "        #  If they were expected, we'd have to use the original end date,\n",
    "        #  but default the hours/minutes/etc. to their max value.\n",
    "        \n",
    "        # Will have to modify the previous get functions to not save files?\n",
    "        #  Or can I make use of them...?\n",
    "        #.  Maybe build build the full file name string for eachg day here,\n",
    "        #   Then just call the appropriate get function on that string and\n",
    "        #.  timestamps for the day?"
   ]
  },
  {
   "cell_type": "code",
   "execution_count": 3,
   "metadata": {
    "ExecuteTime": {
     "end_time": "2020-09-30T18:12:06.010863Z",
     "start_time": "2020-09-30T18:12:06.004731Z"
    }
   },
   "outputs": [],
   "source": [
    "# set up client\n",
    "\n",
    "cfg = Config()\n",
    "client = stream.V1Client(cfg)"
   ]
  },
  {
   "cell_type": "markdown",
   "metadata": {},
   "source": [
    "## Set up structure for breaking a long window of time into days\n",
    "\n",
    "The user should be able to set a range of time (up to months), and download all data from that range, with each day being saved to a separate, but intuitively-named .csv file.\n",
    "\n",
    "(so that we get something like: RCS02L_2020_10_01_acc_.csv)"
   ]
  },
  {
   "cell_type": "markdown",
   "metadata": {},
   "source": [
    "Times of interest:\n",
    "\n",
    "**RCS02**\n",
    "* Open Loop:\n",
    "Left: 5/26/20-5/30/20\n",
    "* Closed Loop:\n",
    "Left: 6/10/20-6/15/20\n",
    "\n",
    "**RCS05**:\n",
    "* Left: 6/16/20 - 6/20/20\n",
    "* Right: 6/16/20, 6/18/20, 6/19/20\n",
    "\n",
    "**RCS06**:\n",
    "* Open Loop:\n",
    "Both sides: 6/4/20-6/5/20\n",
    "* Closed Loop:\n",
    "Left: 6/15\n",
    "\n",
    "**RCS07**:\n",
    "* Both: 6/23/20-6/27/20\n",
    "\n",
    "**RCS08**:\n",
    "* Both: 6/23/20-6/27/20\n",
    "\n",
    "\n",
    "**+ Everything from this week (week of Sept 20) from**: \n",
    "RCS02, RCS05, RCS07, RCS08 "
   ]
  },
  {
   "cell_type": "markdown",
   "metadata": {},
   "source": [
    "*(I'm guessing the week is sun-sat, Sept. 20-26... and \"everything\" is both watches?)*"
   ]
  },
  {
   "cell_type": "code",
   "execution_count": 10,
   "metadata": {
    "ExecuteTime": {
     "end_time": "2020-09-30T18:25:05.160850Z",
     "start_time": "2020-09-30T18:25:05.150951Z"
    }
   },
   "outputs": [],
   "source": [
    "# Specify patient ids and device ids.\n",
    "\n",
    "subjects = [\n",
    "    # 'rcs02',\n",
    "    # 'rcs05',\n",
    "    # 'rcs06',\n",
    "    # 'rcs07',\n",
    "    'rcs08'\n",
    "]\n",
    "\n",
    "patient_ids = {\n",
    "    'rcs02': 'RCS02',\n",
    "    'rcs05': 'RCS05',\n",
    "    'rcs06': 'rcs06',\n",
    "    'rcs07': 'rcs07',\n",
    "    'rcs08': 'ee8ad14f051f4ff0bccab5c98171067f'\n",
    "}\n",
    "\n",
    "device_ids = {\n",
    "    'rcs02': {\n",
    "        'L': 'S9Nj2M1Q',\n",
    "        'R': 'KrCk6N6q'\n",
    "    },\n",
    "    'rcs05': {\n",
    "        'L': 'fkFVvXvO',\n",
    "        'R': 'yFZe7BQZ'\n",
    "    },\n",
    "    'rcs06': {\n",
    "        'L': 'CWTFFG3f',\n",
    "        'R': 'EK5cDAZ1'\n",
    "    },\n",
    "    'rcs07': {\n",
    "        'L': '0Z48CCdv',\n",
    "        'R': 'RElEtNme'\n",
    "    },\n",
    "    'rcs08': {\n",
    "        'L': 'WJzJ4*NA',\n",
    "        'R': 'fMQ45ejQ'\n",
    "    }\n",
    "}"
   ]
  },
  {
   "cell_type": "markdown",
   "metadata": {},
   "source": [
    "For now I'm testing code below, but will then polish it into a function that cuts a time window into days and stores the timestamps in a usable structure."
   ]
  },
  {
   "cell_type": "code",
   "execution_count": 11,
   "metadata": {},
   "outputs": [],
   "source": [
    "# Starting with brute force to build this structure.\n",
    "#  Write code to more elegantly build it from user input later...\n",
    "\n",
    "patient_time_windows = {\n",
    "    'rcs02': {\n",
    "        'start': [\n",
    "            datetime.datetime(2020, 5, 26).timestamp(),\n",
    "            datetime.datetime(2020, 6, 10).timestamp(),\n",
    "            datetime.datetime(2020, 9, 20).timestamp()\n",
    "        ],\n",
    "        'stop': [\n",
    "            datetime.datetime(2020, 5, 30).timestamp(),\n",
    "            datetime.datetime(2020, 6, 15).timestamp(),\n",
    "            datetime.datetime(2020, 9, 26).timestamp()\n",
    "        ],\n",
    "        'side': [\n",
    "            'L',\n",
    "            'L',\n",
    "            'Both'\n",
    "        ]\n",
    "    },\n",
    "    'rcs05': {\n",
    "        'start': [\n",
    "            datetime.datetime(2020, 6, 16).timestamp(),\n",
    "            datetime.datetime(2020, 6, 16).timestamp(),\n",
    "            datetime.datetime(2020, 6, 18).timestamp(),\n",
    "            datetime.datetime(2020, 6, 19).timestamp(),\n",
    "            datetime.datetime(2020, 9, 20).timestamp()\n",
    "        ],\n",
    "        'stop': [\n",
    "            datetime.datetime(2020, 6, 20).timestamp(),\n",
    "            datetime.datetime(2020, 6, 16).timestamp(),\n",
    "            datetime.datetime(2020, 6, 18).timestamp(),\n",
    "            datetime.datetime(2020, 6, 19).timestamp(),\n",
    "            datetime.datetime(2020, 9, 26).timestamp()\n",
    "        ],\n",
    "        'side': [\n",
    "            'L',\n",
    "            'R',\n",
    "            'R',\n",
    "            'R',\n",
    "            'Both'\n",
    "        ]\n",
    "    },\n",
    "    'rcs06': {\n",
    "        'start': [\n",
    "            datetime.datetime(2020, 6, 4).timestamp(),\n",
    "            datetime.datetime(2020, 6, 15).timestamp()\n",
    "        ],\n",
    "        'stop': [\n",
    "            datetime.datetime(2020, 6, 5).timestamp(),\n",
    "            datetime.datetime(2020, 6, 15).timestamp()\n",
    "        ],\n",
    "        'side': [\n",
    "            'Both',\n",
    "            'L'\n",
    "        ]\n",
    "    },\n",
    "    'rcs07': {\n",
    "        'start': [\n",
    "            datetime.datetime(2020, 6, 23).timestamp(),\n",
    "            datetime.datetime(2020, 9, 20).timestamp()\n",
    "        ],\n",
    "        'stop': [\n",
    "            datetime.datetime(2020, 6, 27).timestamp(),\n",
    "            datetime.datetime(2020, 9, 26).timestamp()\n",
    "        ],\n",
    "        'side': [\n",
    "            'Both',\n",
    "            'Both'\n",
    "        ]\n",
    "    },\n",
    "    'rcs08': {\n",
    "        'start': [\n",
    "            datetime.datetime(2020, 6, 23).timestamp(),\n",
    "            datetime.datetime(2020, 9, 20).timestamp()\n",
    "        ],\n",
    "        'stop': [\n",
    "            datetime.datetime(2020, 6, 27).timestamp(),\n",
    "            datetime.datetime(2020, 9, 26).timestamp()\n",
    "        ],\n",
    "        'side': [\n",
    "            'Both',\n",
    "            'Both'\n",
    "        ]\n",
    "    },\n",
    "    # Example below of including finer resolution with hour/minute/etc. keyword args\n",
    "    #'rcs05': {'start': datetime.datetime(2020, 10, 3, hour=10, minute=30).timestamp(),\n",
    "    #          'stop': datetime.datetime(2020, 10, 3, hour=13, minute=30).timestamp()\n",
    "    #         }\n",
    "}\n",
    "\n",
    "# Example for indexing of the above structure:\n",
    "#patient_time_windows['rcs02']['start'][0]"
   ]
  },
  {
   "cell_type": "code",
   "execution_count": 18,
   "metadata": {
    "ExecuteTime": {
     "end_time": "2020-09-30T18:26:23.789985Z",
     "start_time": "2020-09-30T18:26:23.787100Z"
    }
   },
   "outputs": [],
   "source": [
    "# specify base path for saving data\n",
    "\n",
    "#BASE_PATH = '/Users/roee/Downloads/watch'\n",
    "BASE_PATH = '~/Documents/api_data/'"
   ]
  },
  {
   "cell_type": "code",
   "execution_count": 19,
   "metadata": {},
   "outputs": [],
   "source": [
    "# Loop over the above defined patient_time_windows dict,\n",
    "#  for each subject in subjects,\n",
    "#  downloading all desired data.\n",
    "\n",
    "for subject in subjects:\n",
    "    # Loop through each entry in the time windows dict, using 'side'.\n",
    "    #  (assumes the same number of starts, stops, and sides)\n",
    "    for idx,side in enumerate(patient_time_windows[subject]['side']):\n",
    "        thisstart = patient_time_windows[subject]['start'][idx]\n",
    "        thisstop = patient_time_windows[subject]['stop'][idx]\n",
    "        \n",
    "        # Set up the common portion of the parameters:\n",
    "        params = {\n",
    "                'patient_id': patient_ids[subject],\n",
    "                # 'device_id' is set below\n",
    "                'start_time': thisstart,\n",
    "                'end_time': thisstop,\n",
    "                'timestamp': 'datetime'\n",
    "                #'timestamp': 'unix'\n",
    "        }\n",
    "        \n",
    "        # Handle instances in which both left and right are desired:\n",
    "        #  (this could be more elegant...)\n",
    "        if side == 'Both':\n",
    "            # Download data for left device:\n",
    "            params['device_id'] = device_ids[subject]['L']\n",
    "            base_filename = subject + 'L_'\n",
    "            get_data_by_days(\n",
    "                client,\n",
    "                params,\n",
    "                BASE_PATH,\n",
    "                base_filename\n",
    "            )\n",
    "            \n",
    "            # Download data for right device:\n",
    "            params['device_id'] = device_ids[subject]['R']\n",
    "            base_filename = subject + 'R_'\n",
    "            get_data_by_days(\n",
    "                client,\n",
    "                params,\n",
    "                BASE_PATH,\n",
    "                base_filename\n",
    "            )\n",
    "        else:\n",
    "            # Download data for whatever device 'side' is:\n",
    "            params['device_id'] = device_ids[subject][side]\n",
    "            base_filename = subject + side + '_'\n",
    "            get_data_by_days(\n",
    "                client,\n",
    "                params,\n",
    "                BASE_PATH,\n",
    "                base_filename\n",
    "            )\n",
    "        \n",
    "        # (still have to write this function above...)"
   ]
  },
  {
   "cell_type": "code",
   "execution_count": 21,
   "metadata": {},
   "outputs": [
    {
     "name": "stdout",
     "output_type": "stream",
     "text": [
      "testL_\n"
     ]
    }
   ],
   "source": [
    "# code testing cell\n",
    "subject = 'test'\n",
    "side = 'L'\n",
    "base_filename = subject + side + '_'\n",
    "print(base_filename)"
   ]
  },
  {
   "cell_type": "markdown",
   "metadata": {},
   "source": [
    "Spacer..."
   ]
  },
  {
   "cell_type": "code",
   "execution_count": 7,
   "metadata": {
    "ExecuteTime": {
     "end_time": "2020-09-30T18:29:24.972746Z",
     "start_time": "2020-09-30T18:29:07.814713Z"
    }
   },
   "outputs": [],
   "source": [
    "# download data\n",
    "\n",
    "for subject in subjects:\n",
    "    accel = get_accel(\n",
    "        client,\n",
    "        L_params[subject],\n",
    "        os.path.join(BASE_PATH, 'ex_accel.csv')\n",
    "        subject + '_accel'\n",
    "    )\n",
    "    rotation = get_rotation(\n",
    "        client,\n",
    "        L_params[subject],\n",
    "        os.path.join(BASE_PATH, 'ex_rotation.csv')\n",
    "    )\n",
    "    tremor = get_tremor(\n",
    "        client,\n",
    "        L_params[subject],\n",
    "        os.path.join(BASE_PATH, 'ex_tremor.csv')\n",
    "    )\n",
    "    dyskinesia = get_dyskinesia(\n",
    "        client,\n",
    "        L_params[subject],\n",
    "        os.path.join(BASE_PATH, 'ex_dyskinesia.csv')\n",
    "    )"
   ]
  }
 ],
 "metadata": {
  "kernelspec": {
   "display_name": "Python 3",
   "language": "python",
   "name": "python3"
  },
  "language_info": {
   "codemirror_mode": {
    "name": "ipython",
    "version": 3
   },
   "file_extension": ".py",
   "mimetype": "text/x-python",
   "name": "python",
   "nbconvert_exporter": "python",
   "pygments_lexer": "ipython3",
   "version": "3.8.3"
  },
  "varInspector": {
   "cols": {
    "lenName": 16,
    "lenType": 16,
    "lenVar": 40
   },
   "kernels_config": {
    "python": {
     "delete_cmd_postfix": "",
     "delete_cmd_prefix": "del ",
     "library": "var_list.py",
     "varRefreshCmd": "print(var_dic_list())"
    },
    "r": {
     "delete_cmd_postfix": ") ",
     "delete_cmd_prefix": "rm(",
     "library": "var_list.r",
     "varRefreshCmd": "cat(var_dic_list()) "
    }
   },
   "types_to_exclude": [
    "module",
    "function",
    "builtin_function_or_method",
    "instance",
    "_Feature"
   ],
   "window_display": false
  }
 },
 "nbformat": 4,
 "nbformat_minor": 4
}
